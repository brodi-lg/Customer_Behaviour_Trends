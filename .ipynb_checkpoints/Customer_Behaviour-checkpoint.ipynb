{
 "cells": [
  {
   "cell_type": "markdown",
   "id": "fa4ccdb0-6c44-4ccb-b260-4524b3d8463a",
   "metadata": {},
   "source": [
    "# DATA GATHERING \n",
    "\n",
    "The data for this analysis was gathered from https://www.kaggle.com/datasets/bhadramohit/customer-shopping-latest-trends-dataset/data.\n"
   ]
  },
  {
   "cell_type": "code",
   "execution_count": 2,
   "id": "8f5ec072-d171-4b09-8369-f01179a692d0",
   "metadata": {},
   "outputs": [],
   "source": [
    "#libraries imported \n",
    "\n",
    "import pandas as pd\n",
    "import matplotlib.pyplot as plt\n",
    "import seaborn as sns\n",
    "import numpy as np\n"
   ]
  },
  {
   "cell_type": "code",
   "execution_count": 3,
   "id": "c5a14ff2-355f-49f8-977a-744f7fc584c6",
   "metadata": {},
   "outputs": [],
   "source": [
    "%matplotlib inline    \n",
    "pd.set_option('display.max_columns', None)  "
   ]
  },
  {
   "cell_type": "markdown",
   "id": "9bc381fb-f3d4-45ee-90be-7e336409e8f4",
   "metadata": {},
   "source": [
    "# Data Extraction"
   ]
  },
  {
   "cell_type": "code",
   "execution_count": 5,
   "id": "8c249a37-bfc7-4af0-b680-a8e85788da6e",
   "metadata": {},
   "outputs": [],
   "source": [
    "df = pd.read_csv(\"shopping_trends.csv\")"
   ]
  },
  {
   "cell_type": "markdown",
   "id": "2279d77c-8ff1-43ec-981d-3cb21207de44",
   "metadata": {},
   "source": [
    "# Data Exploration and initial Insights"
   ]
  },
  {
   "cell_type": "code",
   "execution_count": 7,
   "id": "d3578a3a-b76d-43c3-a3c2-09c8a0007334",
   "metadata": {},
   "outputs": [
    {
     "data": {
      "text/html": [
       "<div>\n",
       "<style scoped>\n",
       "    .dataframe tbody tr th:only-of-type {\n",
       "        vertical-align: middle;\n",
       "    }\n",
       "\n",
       "    .dataframe tbody tr th {\n",
       "        vertical-align: top;\n",
       "    }\n",
       "\n",
       "    .dataframe thead th {\n",
       "        text-align: right;\n",
       "    }\n",
       "</style>\n",
       "<table border=\"1\" class=\"dataframe\">\n",
       "  <thead>\n",
       "    <tr style=\"text-align: right;\">\n",
       "      <th></th>\n",
       "      <th>Customer ID</th>\n",
       "      <th>Age</th>\n",
       "      <th>Gender</th>\n",
       "      <th>Item Purchased</th>\n",
       "      <th>Category</th>\n",
       "      <th>Purchase Amount (USD)</th>\n",
       "      <th>Location</th>\n",
       "      <th>Size</th>\n",
       "      <th>Color</th>\n",
       "      <th>Season</th>\n",
       "      <th>Review Rating</th>\n",
       "      <th>Subscription Status</th>\n",
       "      <th>Payment Method</th>\n",
       "      <th>Shipping Type</th>\n",
       "      <th>Discount Applied</th>\n",
       "      <th>Promo Code Used</th>\n",
       "      <th>Previous Purchases</th>\n",
       "      <th>Preferred Payment Method</th>\n",
       "      <th>Frequency of Purchases</th>\n",
       "    </tr>\n",
       "  </thead>\n",
       "  <tbody>\n",
       "    <tr>\n",
       "      <th>0</th>\n",
       "      <td>1</td>\n",
       "      <td>55</td>\n",
       "      <td>Male</td>\n",
       "      <td>Blouse</td>\n",
       "      <td>Clothing</td>\n",
       "      <td>53</td>\n",
       "      <td>Kentucky</td>\n",
       "      <td>L</td>\n",
       "      <td>Gray</td>\n",
       "      <td>Winter</td>\n",
       "      <td>3.1</td>\n",
       "      <td>Yes</td>\n",
       "      <td>Credit Card</td>\n",
       "      <td>Express</td>\n",
       "      <td>Yes</td>\n",
       "      <td>Yes</td>\n",
       "      <td>14</td>\n",
       "      <td>Venmo</td>\n",
       "      <td>Fortnightly</td>\n",
       "    </tr>\n",
       "    <tr>\n",
       "      <th>1</th>\n",
       "      <td>2</td>\n",
       "      <td>19</td>\n",
       "      <td>Male</td>\n",
       "      <td>Sweater</td>\n",
       "      <td>Clothing</td>\n",
       "      <td>64</td>\n",
       "      <td>Maine</td>\n",
       "      <td>L</td>\n",
       "      <td>Maroon</td>\n",
       "      <td>Winter</td>\n",
       "      <td>3.1</td>\n",
       "      <td>Yes</td>\n",
       "      <td>Bank Transfer</td>\n",
       "      <td>Express</td>\n",
       "      <td>Yes</td>\n",
       "      <td>Yes</td>\n",
       "      <td>2</td>\n",
       "      <td>Cash</td>\n",
       "      <td>Fortnightly</td>\n",
       "    </tr>\n",
       "    <tr>\n",
       "      <th>2</th>\n",
       "      <td>3</td>\n",
       "      <td>50</td>\n",
       "      <td>Male</td>\n",
       "      <td>Jeans</td>\n",
       "      <td>Clothing</td>\n",
       "      <td>73</td>\n",
       "      <td>Massachusetts</td>\n",
       "      <td>S</td>\n",
       "      <td>Maroon</td>\n",
       "      <td>Spring</td>\n",
       "      <td>3.1</td>\n",
       "      <td>Yes</td>\n",
       "      <td>Cash</td>\n",
       "      <td>Free Shipping</td>\n",
       "      <td>Yes</td>\n",
       "      <td>Yes</td>\n",
       "      <td>23</td>\n",
       "      <td>Credit Card</td>\n",
       "      <td>Weekly</td>\n",
       "    </tr>\n",
       "    <tr>\n",
       "      <th>3</th>\n",
       "      <td>4</td>\n",
       "      <td>21</td>\n",
       "      <td>Male</td>\n",
       "      <td>Sandals</td>\n",
       "      <td>Footwear</td>\n",
       "      <td>90</td>\n",
       "      <td>Rhode Island</td>\n",
       "      <td>M</td>\n",
       "      <td>Maroon</td>\n",
       "      <td>Spring</td>\n",
       "      <td>3.5</td>\n",
       "      <td>Yes</td>\n",
       "      <td>PayPal</td>\n",
       "      <td>Next Day Air</td>\n",
       "      <td>Yes</td>\n",
       "      <td>Yes</td>\n",
       "      <td>49</td>\n",
       "      <td>PayPal</td>\n",
       "      <td>Weekly</td>\n",
       "    </tr>\n",
       "    <tr>\n",
       "      <th>4</th>\n",
       "      <td>5</td>\n",
       "      <td>45</td>\n",
       "      <td>Male</td>\n",
       "      <td>Blouse</td>\n",
       "      <td>Clothing</td>\n",
       "      <td>49</td>\n",
       "      <td>Oregon</td>\n",
       "      <td>M</td>\n",
       "      <td>Turquoise</td>\n",
       "      <td>Spring</td>\n",
       "      <td>2.7</td>\n",
       "      <td>Yes</td>\n",
       "      <td>Cash</td>\n",
       "      <td>Free Shipping</td>\n",
       "      <td>Yes</td>\n",
       "      <td>Yes</td>\n",
       "      <td>31</td>\n",
       "      <td>PayPal</td>\n",
       "      <td>Annually</td>\n",
       "    </tr>\n",
       "  </tbody>\n",
       "</table>\n",
       "</div>"
      ],
      "text/plain": [
       "   Customer ID  Age Gender Item Purchased  Category  Purchase Amount (USD)  \\\n",
       "0            1   55   Male         Blouse  Clothing                     53   \n",
       "1            2   19   Male        Sweater  Clothing                     64   \n",
       "2            3   50   Male          Jeans  Clothing                     73   \n",
       "3            4   21   Male        Sandals  Footwear                     90   \n",
       "4            5   45   Male         Blouse  Clothing                     49   \n",
       "\n",
       "        Location Size      Color  Season  Review Rating Subscription Status  \\\n",
       "0       Kentucky    L       Gray  Winter            3.1                 Yes   \n",
       "1          Maine    L     Maroon  Winter            3.1                 Yes   \n",
       "2  Massachusetts    S     Maroon  Spring            3.1                 Yes   \n",
       "3   Rhode Island    M     Maroon  Spring            3.5                 Yes   \n",
       "4         Oregon    M  Turquoise  Spring            2.7                 Yes   \n",
       "\n",
       "  Payment Method  Shipping Type Discount Applied Promo Code Used  \\\n",
       "0    Credit Card        Express              Yes             Yes   \n",
       "1  Bank Transfer        Express              Yes             Yes   \n",
       "2           Cash  Free Shipping              Yes             Yes   \n",
       "3         PayPal   Next Day Air              Yes             Yes   \n",
       "4           Cash  Free Shipping              Yes             Yes   \n",
       "\n",
       "   Previous Purchases Preferred Payment Method Frequency of Purchases  \n",
       "0                  14                    Venmo            Fortnightly  \n",
       "1                   2                     Cash            Fortnightly  \n",
       "2                  23              Credit Card                 Weekly  \n",
       "3                  49                   PayPal                 Weekly  \n",
       "4                  31                   PayPal               Annually  "
      ]
     },
     "execution_count": 7,
     "metadata": {},
     "output_type": "execute_result"
    }
   ],
   "source": [
    "df.head()"
   ]
  },
  {
   "cell_type": "code",
   "execution_count": 8,
   "id": "aa2c78af-a728-40b6-a6f0-ff772e66163c",
   "metadata": {},
   "outputs": [
    {
     "name": "stdout",
     "output_type": "stream",
     "text": [
      "<class 'pandas.core.frame.DataFrame'>\n",
      "RangeIndex: 3900 entries, 0 to 3899\n",
      "Data columns (total 19 columns):\n",
      " #   Column                    Non-Null Count  Dtype  \n",
      "---  ------                    --------------  -----  \n",
      " 0   Customer ID               3900 non-null   int64  \n",
      " 1   Age                       3900 non-null   int64  \n",
      " 2   Gender                    3900 non-null   object \n",
      " 3   Item Purchased            3900 non-null   object \n",
      " 4   Category                  3900 non-null   object \n",
      " 5   Purchase Amount (USD)     3900 non-null   int64  \n",
      " 6   Location                  3900 non-null   object \n",
      " 7   Size                      3900 non-null   object \n",
      " 8   Color                     3900 non-null   object \n",
      " 9   Season                    3900 non-null   object \n",
      " 10  Review Rating             3900 non-null   float64\n",
      " 11  Subscription Status       3900 non-null   object \n",
      " 12  Payment Method            3900 non-null   object \n",
      " 13  Shipping Type             3900 non-null   object \n",
      " 14  Discount Applied          3900 non-null   object \n",
      " 15  Promo Code Used           3900 non-null   object \n",
      " 16  Previous Purchases        3900 non-null   int64  \n",
      " 17  Preferred Payment Method  3900 non-null   object \n",
      " 18  Frequency of Purchases    3900 non-null   object \n",
      "dtypes: float64(1), int64(4), object(14)\n",
      "memory usage: 579.0+ KB\n"
     ]
    }
   ],
   "source": [
    "df.info()"
   ]
  },
  {
   "cell_type": "code",
   "execution_count": 9,
   "id": "73b7bc29-8ac0-45cc-b618-ba786bcbe2a2",
   "metadata": {},
   "outputs": [
    {
     "data": {
      "text/plain": [
       "(3900, 19)"
      ]
     },
     "execution_count": 9,
     "metadata": {},
     "output_type": "execute_result"
    }
   ],
   "source": [
    "df.shape"
   ]
  },
  {
   "cell_type": "code",
   "execution_count": 10,
   "id": "4a5dd5cc-9d46-4e28-a3b9-39915eee410f",
   "metadata": {},
   "outputs": [
    {
     "data": {
      "text/plain": [
       "<bound method Index.unique of Index(['Customer ID', 'Age', 'Gender', 'Item Purchased', 'Category',\n",
       "       'Purchase Amount (USD)', 'Location', 'Size', 'Color', 'Season',\n",
       "       'Review Rating', 'Subscription Status', 'Payment Method',\n",
       "       'Shipping Type', 'Discount Applied', 'Promo Code Used',\n",
       "       'Previous Purchases', 'Preferred Payment Method',\n",
       "       'Frequency of Purchases'],\n",
       "      dtype='object')>"
      ]
     },
     "execution_count": 10,
     "metadata": {},
     "output_type": "execute_result"
    }
   ],
   "source": [
    "df.columns.unique"
   ]
  },
  {
   "cell_type": "code",
   "execution_count": 11,
   "id": "c1154bc2-5627-4e00-927b-a64596c1624c",
   "metadata": {},
   "outputs": [
    {
     "data": {
      "text/plain": [
       "array([55, 19, 50, 21, 45, 46, 63, 27, 26, 57, 53, 30, 61, 65, 64, 25, 52,\n",
       "       66, 31, 56, 18, 38, 54, 33, 36, 35, 29, 70, 69, 67, 20, 39, 42, 68,\n",
       "       49, 59, 47, 40, 41, 48, 22, 24, 44, 37, 58, 32, 62, 51, 28, 43, 34,\n",
       "       23, 60])"
      ]
     },
     "execution_count": 11,
     "metadata": {},
     "output_type": "execute_result"
    }
   ],
   "source": [
    " #can be binned, retain original column\n",
    "df.Age.unique() "
   ]
  },
  {
   "cell_type": "code",
   "execution_count": 12,
   "id": "6fb0c5d6-a1fb-411f-bacc-338c209c7084",
   "metadata": {},
   "outputs": [
    {
     "data": {
      "text/plain": [
       "array([3.1, 3.5, 2.7, 2.9, 3.2, 2.6, 4.8, 4.1, 4.9, 4.5, 4.7, 2.8, 4.6,\n",
       "       3.3, 4.4, 3.6, 5. , 4. , 3.7, 4.2, 3.9, 3. , 3.8, 3.4, 4.3, 2.5])"
      ]
     },
     "execution_count": 12,
     "metadata": {},
     "output_type": "execute_result"
    }
   ],
   "source": [
    "#can be binned but retain original column\n",
    "df['Review Rating'].unique() "
   ]
  },
  {
   "cell_type": "code",
   "execution_count": 13,
   "id": "75cab475-52f5-4463-8661-5a3ccd82f2f7",
   "metadata": {},
   "outputs": [
    {
     "data": {
      "text/plain": [
       "array(['Male', 'Female'], dtype=object)"
      ]
     },
     "execution_count": 13,
     "metadata": {},
     "output_type": "execute_result"
    }
   ],
   "source": [
    "df.Gender.unique()"
   ]
  },
  {
   "cell_type": "code",
   "execution_count": 14,
   "id": "b987a29b-b0af-4bac-83cb-c99bb6774a86",
   "metadata": {},
   "outputs": [
    {
     "data": {
      "text/plain": [
       "array(['Kentucky', 'Maine', 'Massachusetts', 'Rhode Island', 'Oregon',\n",
       "       'Wyoming', 'Montana', 'Louisiana', 'West Virginia', 'Missouri',\n",
       "       'Arkansas', 'Hawaii', 'Delaware', 'New Hampshire', 'New York',\n",
       "       'Alabama', 'Mississippi', 'North Carolina', 'California',\n",
       "       'Oklahoma', 'Florida', 'Texas', 'Nevada', 'Kansas', 'Colorado',\n",
       "       'North Dakota', 'Illinois', 'Indiana', 'Arizona', 'Alaska',\n",
       "       'Tennessee', 'Ohio', 'New Jersey', 'Maryland', 'Vermont',\n",
       "       'New Mexico', 'South Carolina', 'Idaho', 'Pennsylvania',\n",
       "       'Connecticut', 'Utah', 'Virginia', 'Georgia', 'Nebraska', 'Iowa',\n",
       "       'South Dakota', 'Minnesota', 'Washington', 'Wisconsin', 'Michigan'],\n",
       "      dtype=object)"
      ]
     },
     "execution_count": 14,
     "metadata": {},
     "output_type": "execute_result"
    }
   ],
   "source": [
    "#should be mapped according to regions, drop original\n",
    "df.Location.unique() "
   ]
  },
  {
   "cell_type": "code",
   "execution_count": 15,
   "id": "3ad26243-91ba-4d8e-bbbe-00d89e2069f3",
   "metadata": {},
   "outputs": [
    {
     "data": {
      "text/plain": [
       "array(['Credit Card', 'Bank Transfer', 'Cash', 'PayPal', 'Venmo',\n",
       "       'Debit Card'], dtype=object)"
      ]
     },
     "execution_count": 15,
     "metadata": {},
     "output_type": "execute_result"
    }
   ],
   "source": [
    "df['Payment Method'].unique()"
   ]
  },
  {
   "cell_type": "code",
   "execution_count": 16,
   "id": "3621a130-ba5b-478a-933b-78f910de5119",
   "metadata": {},
   "outputs": [
    {
     "data": {
      "text/plain": [
       "array(['Venmo', 'Cash', 'Credit Card', 'PayPal', 'Bank Transfer',\n",
       "       'Debit Card'], dtype=object)"
      ]
     },
     "execution_count": 16,
     "metadata": {},
     "output_type": "execute_result"
    }
   ],
   "source": [
    "df['Preferred Payment Method'].unique() #consistent wiht payment mode, need not be changed "
   ]
  },
  {
   "cell_type": "code",
   "execution_count": 17,
   "id": "8ac1f68e-e7c4-42e2-9177-cba376bbdaa3",
   "metadata": {},
   "outputs": [
    {
     "data": {
      "text/plain": [
       "array(['Express', 'Free Shipping', 'Next Day Air', 'Standard',\n",
       "       '2-Day Shipping', 'Store Pickup'], dtype=object)"
      ]
     },
     "execution_count": 17,
     "metadata": {},
     "output_type": "execute_result"
    }
   ],
   "source": [
    "df['Shipping Type'].unique() "
   ]
  },
  {
   "cell_type": "code",
   "execution_count": 18,
   "id": "b292dace-67e3-461b-a6f7-85e15cffa1b2",
   "metadata": {},
   "outputs": [
    {
     "data": {
      "text/plain": [
       "array(['Yes', 'No'], dtype=object)"
      ]
     },
     "execution_count": 18,
     "metadata": {},
     "output_type": "execute_result"
    }
   ],
   "source": [
    "df['Discount Applied'].unique()"
   ]
  },
  {
   "cell_type": "code",
   "execution_count": 19,
   "id": "670b37cb-ff5d-4fb1-8d2e-cdf0c3513444",
   "metadata": {},
   "outputs": [
    {
     "data": {
      "text/plain": [
       "array(['Yes', 'No'], dtype=object)"
      ]
     },
     "execution_count": 19,
     "metadata": {},
     "output_type": "execute_result"
    }
   ],
   "source": [
    "df['Promo Code Used'].unique()"
   ]
  },
  {
   "cell_type": "markdown",
   "id": "b8507055-1b18-478b-8105-e8f78ffbe0ac",
   "metadata": {},
   "source": [
    "## initial insights  \n",
    "1. Some columns may be dropped liked customer id\n",
    "2. Some columns can be clustered/grouped into smaller values\n",
    "3. there could be many kinds of explorations\n",
    "     1. product categories and preferences according to age, gender, location, preference \n",
    "     2. discount and promo codes -and its impact on purchases and product segments\n",
    "     3. product segments and purchasing power according to gender and age\n",
    "     4. delivery preferences according to gender, age and location\n",
    "     5. payment preferences according to gender and age\n",
    "     6. subscription preferences according to gender and product categories\n",
    "        "
   ]
  },
  {
   "cell_type": "markdown",
   "id": "6e0ac926-75a1-4c92-acfb-7696a764ee66",
   "metadata": {},
   "source": [
    "# Data Cleaning"
   ]
  },
  {
   "cell_type": "code",
   "execution_count": 22,
   "id": "b61ef7f3-3ccd-45b7-87ff-dea7f10f202a",
   "metadata": {},
   "outputs": [
    {
     "data": {
      "text/plain": [
       "0"
      ]
     },
     "execution_count": 22,
     "metadata": {},
     "output_type": "execute_result"
    }
   ],
   "source": [
    "#drop customer id to reset index\n",
    "df.duplicated('Customer ID').sum() "
   ]
  },
  {
   "cell_type": "code",
   "execution_count": 23,
   "id": "00482db7-26de-485b-a678-c5d19b12120d",
   "metadata": {},
   "outputs": [
    {
     "data": {
      "text/plain": [
       "0"
      ]
     },
     "execution_count": 23,
     "metadata": {},
     "output_type": "execute_result"
    }
   ],
   "source": [
    "df.duplicated().sum() #check for duplicates\n"
   ]
  },
  {
   "cell_type": "code",
   "execution_count": 24,
   "id": "85b3f59f-fc72-4706-9b85-add77e851f21",
   "metadata": {},
   "outputs": [
    {
     "data": {
      "text/plain": [
       "Customer ID                 0\n",
       "Age                         0\n",
       "Gender                      0\n",
       "Item Purchased              0\n",
       "Category                    0\n",
       "Purchase Amount (USD)       0\n",
       "Location                    0\n",
       "Size                        0\n",
       "Color                       0\n",
       "Season                      0\n",
       "Review Rating               0\n",
       "Subscription Status         0\n",
       "Payment Method              0\n",
       "Shipping Type               0\n",
       "Discount Applied            0\n",
       "Promo Code Used             0\n",
       "Previous Purchases          0\n",
       "Preferred Payment Method    0\n",
       "Frequency of Purchases      0\n",
       "dtype: int64"
      ]
     },
     "execution_count": 24,
     "metadata": {},
     "output_type": "execute_result"
    }
   ],
   "source": [
    "df.isna().sum()"
   ]
  },
  {
   "cell_type": "code",
   "execution_count": 25,
   "id": "06a5b61c-ef45-4f64-b1d3-72e3a62869dc",
   "metadata": {},
   "outputs": [],
   "source": [
    "#resetting index so that it starts at 1 \n",
    "df.index = np.arange(1, len(df) + 1)"
   ]
  },
  {
   "cell_type": "code",
   "execution_count": 26,
   "id": "c3f43028-5dac-48ac-ad86-dd07c3a27b21",
   "metadata": {},
   "outputs": [
    {
     "data": {
      "text/plain": [
       "Index(['Customer ID', 'Age', 'Gender', 'Item Purchased', 'Category',\n",
       "       'Purchase Amount (USD)', 'Location', 'Size', 'Color', 'Season',\n",
       "       'Review Rating', 'Subscription Status', 'Payment Method',\n",
       "       'Shipping Type', 'Discount Applied', 'Promo Code Used',\n",
       "       'Previous Purchases', 'Preferred Payment Method',\n",
       "       'Frequency of Purchases'],\n",
       "      dtype='object')"
      ]
     },
     "execution_count": 26,
     "metadata": {},
     "output_type": "execute_result"
    }
   ],
   "source": [
    "df.columns"
   ]
  },
  {
   "cell_type": "code",
   "execution_count": 27,
   "id": "86150434-31bf-45d5-8a6d-9e7af6beed2f",
   "metadata": {},
   "outputs": [],
   "source": [
    "#creating a duplicate before cleaning\n",
    "\n",
    "df1 = df.copy() "
   ]
  },
  {
   "cell_type": "code",
   "execution_count": 28,
   "id": "038b12a4-c4e9-4b79-840b-cacfb8bd3e86",
   "metadata": {},
   "outputs": [],
   "source": [
    "## dropping columns \n",
    "df1= df1.drop(columns=['Customer ID'], errors='ignore')"
   ]
  },
  {
   "cell_type": "raw",
   "id": "518d38e8-4953-49bc-9caf-7b431989c5f4",
   "metadata": {},
   "source": []
  },
  {
   "cell_type": "markdown",
   "id": "f30dfc8d-3569-4e06-8a95-214465946458",
   "metadata": {},
   "source": [
    "#### Feature Engineering - grouping some columns to make visualisation easier \n",
    "1. all locations have been grouped by region - north, west, south, east, central\n",
    "2. all ratings have been categorised as poor, pass, good, and very good\n",
    "3. frequency of purchases have been corrected to include three monthly into 'quarterly'"
   ]
  },
  {
   "cell_type": "code",
   "execution_count": 30,
   "id": "ea8a3f9b-daa6-4617-8706-1241acea4572",
   "metadata": {},
   "outputs": [],
   "source": [
    "\n",
    "# Define region mapping\n",
    "region_mapping = {\n",
    "    # Northeast (already defined earlier)\n",
    "    'Maine': 'Northeast', 'Massachusetts': 'Northeast', 'Rhode Island': 'Northeast',\n",
    "    'New Hampshire': 'Northeast', 'New York': 'Northeast', 'Vermont': 'Northeast',\n",
    "    'Connecticut': 'Northeast', 'Pennsylvania': 'Northeast', 'New Jersey': 'Northeast',\n",
    "    'Delaware': 'Northeast', 'Maryland': 'Northeast',\n",
    "\n",
    "    # Midwest (already defined earlier)\n",
    "    'Ohio': 'Midwest', 'Michigan': 'Midwest', 'Wisconsin': 'Midwest',\n",
    "    'Minnesota': 'Midwest', 'Illinois': 'Midwest', 'Indiana': 'Midwest',\n",
    "\n",
    "    # North (Specific Northern states)\n",
    "    'North Dakota': 'North', 'South Dakota': 'North', 'Montana': 'North', 'Minnesota': 'North',\n",
    "    \n",
    "    # South\n",
    "    'Alabama': 'South', 'Mississippi': 'South', 'Louisiana': 'South',\n",
    "    'West Virginia': 'South', 'North Carolina': 'South', 'South Carolina': 'South',\n",
    "    'Tennessee': 'South', 'Georgia': 'South', 'Florida': 'South', 'Virginia': 'South',\n",
    "    'Arkansas': 'South',\n",
    "\n",
    "    # Central\n",
    "    'Missouri': 'Central', 'Kentucky': 'Central', 'Kansas': 'Central',\n",
    "    'Nebraska': 'Central', 'Iowa': 'Central',\n",
    "\n",
    "    # West\n",
    "    'Montana': 'West', 'Wyoming': 'West', 'Colorado': 'West', 'Idaho': 'West',\n",
    "    'Washington': 'West', 'Oregon': 'West', 'Nevada': 'West', 'California': 'West',\n",
    "    'Arizona': 'West', 'Utah': 'West', 'Alaska': 'West', 'Hawaii': 'West',\n",
    "\n",
    "    # Southwest\n",
    "    'Texas': 'Southwest', 'Oklahoma': 'Southwest', 'New Mexico': 'Southwest',\n",
    "}\n",
    "\n",
    "# Map regions to a new column\n",
    "df1['Region'] = df1['Location'].map(region_mapping)\n",
    "\n"
   ]
  },
  {
   "cell_type": "code",
   "execution_count": 31,
   "id": "3228ba3c-331f-4800-883f-2fb45bc9e3bf",
   "metadata": {},
   "outputs": [
    {
     "data": {
      "text/plain": [
       "array(['Central', 'Northeast', 'West', 'South', 'Southwest', 'North',\n",
       "       'Midwest'], dtype=object)"
      ]
     },
     "execution_count": 31,
     "metadata": {},
     "output_type": "execute_result"
    }
   ],
   "source": [
    "df1.Region.unique() #checking to see if all is well "
   ]
  },
  {
   "cell_type": "code",
   "execution_count": 32,
   "id": "38dfe9e1-b896-4a43-8c5e-878064a3c7c8",
   "metadata": {},
   "outputs": [
    {
     "data": {
      "text/html": [
       "<div>\n",
       "<style scoped>\n",
       "    .dataframe tbody tr th:only-of-type {\n",
       "        vertical-align: middle;\n",
       "    }\n",
       "\n",
       "    .dataframe tbody tr th {\n",
       "        vertical-align: top;\n",
       "    }\n",
       "\n",
       "    .dataframe thead th {\n",
       "        text-align: right;\n",
       "    }\n",
       "</style>\n",
       "<table border=\"1\" class=\"dataframe\">\n",
       "  <thead>\n",
       "    <tr style=\"text-align: right;\">\n",
       "      <th></th>\n",
       "      <th>Age</th>\n",
       "      <th>Gender</th>\n",
       "      <th>Item Purchased</th>\n",
       "      <th>Category</th>\n",
       "      <th>Purchase Amount (USD)</th>\n",
       "      <th>Location</th>\n",
       "      <th>Size</th>\n",
       "      <th>Color</th>\n",
       "      <th>Season</th>\n",
       "      <th>Review Rating</th>\n",
       "      <th>Subscription Status</th>\n",
       "      <th>Payment Method</th>\n",
       "      <th>Shipping Type</th>\n",
       "      <th>Discount Applied</th>\n",
       "      <th>Promo Code Used</th>\n",
       "      <th>Previous Purchases</th>\n",
       "      <th>Preferred Payment Method</th>\n",
       "      <th>Frequency of Purchases</th>\n",
       "      <th>Region</th>\n",
       "      <th>Age Category</th>\n",
       "    </tr>\n",
       "  </thead>\n",
       "  <tbody>\n",
       "    <tr>\n",
       "      <th>1</th>\n",
       "      <td>55</td>\n",
       "      <td>Male</td>\n",
       "      <td>Blouse</td>\n",
       "      <td>Clothing</td>\n",
       "      <td>53</td>\n",
       "      <td>Kentucky</td>\n",
       "      <td>L</td>\n",
       "      <td>Gray</td>\n",
       "      <td>Winter</td>\n",
       "      <td>3.1</td>\n",
       "      <td>Yes</td>\n",
       "      <td>Credit Card</td>\n",
       "      <td>Express</td>\n",
       "      <td>Yes</td>\n",
       "      <td>Yes</td>\n",
       "      <td>14</td>\n",
       "      <td>Venmo</td>\n",
       "      <td>Fortnightly</td>\n",
       "      <td>Central</td>\n",
       "      <td>Middle Age Adult</td>\n",
       "    </tr>\n",
       "    <tr>\n",
       "      <th>2</th>\n",
       "      <td>19</td>\n",
       "      <td>Male</td>\n",
       "      <td>Sweater</td>\n",
       "      <td>Clothing</td>\n",
       "      <td>64</td>\n",
       "      <td>Maine</td>\n",
       "      <td>L</td>\n",
       "      <td>Maroon</td>\n",
       "      <td>Winter</td>\n",
       "      <td>3.1</td>\n",
       "      <td>Yes</td>\n",
       "      <td>Bank Transfer</td>\n",
       "      <td>Express</td>\n",
       "      <td>Yes</td>\n",
       "      <td>Yes</td>\n",
       "      <td>2</td>\n",
       "      <td>Cash</td>\n",
       "      <td>Fortnightly</td>\n",
       "      <td>Northeast</td>\n",
       "      <td>Teen</td>\n",
       "    </tr>\n",
       "  </tbody>\n",
       "</table>\n",
       "</div>"
      ],
      "text/plain": [
       "   Age Gender Item Purchased  Category  Purchase Amount (USD)  Location Size  \\\n",
       "1   55   Male         Blouse  Clothing                     53  Kentucky    L   \n",
       "2   19   Male        Sweater  Clothing                     64     Maine    L   \n",
       "\n",
       "    Color  Season  Review Rating Subscription Status Payment Method  \\\n",
       "1    Gray  Winter            3.1                 Yes    Credit Card   \n",
       "2  Maroon  Winter            3.1                 Yes  Bank Transfer   \n",
       "\n",
       "  Shipping Type Discount Applied Promo Code Used  Previous Purchases  \\\n",
       "1       Express              Yes             Yes                  14   \n",
       "2       Express              Yes             Yes                   2   \n",
       "\n",
       "  Preferred Payment Method Frequency of Purchases     Region      Age Category  \n",
       "1                    Venmo            Fortnightly    Central  Middle Age Adult  \n",
       "2                     Cash            Fortnightly  Northeast              Teen  "
      ]
     },
     "execution_count": 32,
     "metadata": {},
     "output_type": "execute_result"
    }
   ],
   "source": [
    "#age bins\n",
    "bins = [12, 19, 39, 59, float('inf')]  \n",
    "labels = ['Teen', 'Adult', 'Middle Age Adult', 'Senior Adult']\n",
    "df1['Age Category'] = pd.cut(df1['Age'], bins=bins, labels=labels, right=True)\n",
    "df1.head(2)"
   ]
  },
  {
   "cell_type": "code",
   "execution_count": 33,
   "id": "3b228538-f781-4f9d-ac2b-b5c1aa4ff24e",
   "metadata": {},
   "outputs": [
    {
     "data": {
      "text/plain": [
       "Index(['Age', 'Gender', 'Item Purchased', 'Category', 'Purchase Amount (USD)',\n",
       "       'Location', 'Size', 'Color', 'Season', 'Review Rating',\n",
       "       'Subscription Status', 'Payment Method', 'Shipping Type',\n",
       "       'Discount Applied', 'Promo Code Used', 'Previous Purchases',\n",
       "       'Preferred Payment Method', 'Frequency of Purchases', 'Region',\n",
       "       'Age Category'],\n",
       "      dtype='object')"
      ]
     },
     "execution_count": 33,
     "metadata": {},
     "output_type": "execute_result"
    }
   ],
   "source": [
    "df1.columns"
   ]
  },
  {
   "cell_type": "code",
   "execution_count": 34,
   "id": "7731365a-68d6-4783-abb2-4096217553cd",
   "metadata": {},
   "outputs": [],
   "source": [
    "#bins for ratings\n",
    "\n",
    "bins = [1, 2, 3, 4, 5]  # Define the edges of the bins\n",
    "labels = ['Poor', 'Pass', 'Good', 'Very Good']  # Labels for the categories\n",
    "\n",
    "# Use pd.cut to bin the ratings\n",
    "df1['Rating Category'] = pd.cut(df1['Review Rating'], bins=bins, labels=labels, right=False)"
   ]
  },
  {
   "cell_type": "code",
   "execution_count": 35,
   "id": "0edb63f2-ceb6-4647-a23b-637156edbb63",
   "metadata": {},
   "outputs": [
    {
     "data": {
      "text/html": [
       "<div>\n",
       "<style scoped>\n",
       "    .dataframe tbody tr th:only-of-type {\n",
       "        vertical-align: middle;\n",
       "    }\n",
       "\n",
       "    .dataframe tbody tr th {\n",
       "        vertical-align: top;\n",
       "    }\n",
       "\n",
       "    .dataframe thead th {\n",
       "        text-align: right;\n",
       "    }\n",
       "</style>\n",
       "<table border=\"1\" class=\"dataframe\">\n",
       "  <thead>\n",
       "    <tr style=\"text-align: right;\">\n",
       "      <th></th>\n",
       "      <th>Age</th>\n",
       "      <th>Gender</th>\n",
       "      <th>Item Purchased</th>\n",
       "      <th>Category</th>\n",
       "      <th>Purchase Amount (USD)</th>\n",
       "      <th>Location</th>\n",
       "      <th>Size</th>\n",
       "      <th>Color</th>\n",
       "      <th>Season</th>\n",
       "      <th>Review Rating</th>\n",
       "      <th>Subscription Status</th>\n",
       "      <th>Payment Method</th>\n",
       "      <th>Shipping Type</th>\n",
       "      <th>Discount Applied</th>\n",
       "      <th>Promo Code Used</th>\n",
       "      <th>Previous Purchases</th>\n",
       "      <th>Preferred Payment Method</th>\n",
       "      <th>Frequency of Purchases</th>\n",
       "      <th>Region</th>\n",
       "      <th>Age Category</th>\n",
       "      <th>Rating Category</th>\n",
       "      <th>Frequency of purchases</th>\n",
       "    </tr>\n",
       "  </thead>\n",
       "  <tbody>\n",
       "    <tr>\n",
       "      <th>1</th>\n",
       "      <td>55</td>\n",
       "      <td>Male</td>\n",
       "      <td>Blouse</td>\n",
       "      <td>Clothing</td>\n",
       "      <td>53</td>\n",
       "      <td>Kentucky</td>\n",
       "      <td>L</td>\n",
       "      <td>Gray</td>\n",
       "      <td>Winter</td>\n",
       "      <td>3.1</td>\n",
       "      <td>Yes</td>\n",
       "      <td>Credit Card</td>\n",
       "      <td>Express</td>\n",
       "      <td>Yes</td>\n",
       "      <td>Yes</td>\n",
       "      <td>14</td>\n",
       "      <td>Venmo</td>\n",
       "      <td>Fortnightly</td>\n",
       "      <td>Central</td>\n",
       "      <td>Middle Age Adult</td>\n",
       "      <td>Good</td>\n",
       "      <td>Fortnightly</td>\n",
       "    </tr>\n",
       "  </tbody>\n",
       "</table>\n",
       "</div>"
      ],
      "text/plain": [
       "   Age Gender Item Purchased  Category  Purchase Amount (USD)  Location Size  \\\n",
       "1   55   Male         Blouse  Clothing                     53  Kentucky    L   \n",
       "\n",
       "  Color  Season  Review Rating Subscription Status Payment Method  \\\n",
       "1  Gray  Winter            3.1                 Yes    Credit Card   \n",
       "\n",
       "  Shipping Type Discount Applied Promo Code Used  Previous Purchases  \\\n",
       "1       Express              Yes             Yes                  14   \n",
       "\n",
       "  Preferred Payment Method Frequency of Purchases   Region      Age Category  \\\n",
       "1                    Venmo            Fortnightly  Central  Middle Age Adult   \n",
       "\n",
       "  Rating Category Frequency of purchases  \n",
       "1            Good            Fortnightly  "
      ]
     },
     "execution_count": 35,
     "metadata": {},
     "output_type": "execute_result"
    }
   ],
   "source": [
    "#correcting values in frequency of purchases\n",
    "\n",
    "df1['Frequency of purchases'] = df1['Frequency of Purchases'].str.strip()\n",
    "\n",
    "# Replace 'Every 3 Months' with 'Quarterly'\n",
    "df1['Frequency of Purchases'] = df1['Frequency of Purchases'].replace('Every 3 Months', 'Quarterly')\n",
    "df1.head(1)"
   ]
  },
  {
   "cell_type": "code",
   "execution_count": 36,
   "id": "a7bab34b-89c9-495b-bbb7-00b6c6c6ca1d",
   "metadata": {},
   "outputs": [],
   "source": [
    "#dropping a column that appeared \n",
    "df1 = df1.drop(columns=['Frequency of purchases'])"
   ]
  },
  {
   "cell_type": "code",
   "execution_count": 37,
   "id": "f172be90-665c-48c8-b364-ffc41be9c9e6",
   "metadata": {},
   "outputs": [
    {
     "data": {
      "text/plain": [
       "Index(['Age', 'Gender', 'Item Purchased', 'Category', 'Purchase Amount (USD)',\n",
       "       'Location', 'Size', 'Color', 'Season', 'Review Rating',\n",
       "       'Subscription Status', 'Payment Method', 'Shipping Type',\n",
       "       'Discount Applied', 'Promo Code Used', 'Previous Purchases',\n",
       "       'Preferred Payment Method', 'Frequency of Purchases', 'Region',\n",
       "       'Age Category', 'Rating Category'],\n",
       "      dtype='object')"
      ]
     },
     "execution_count": 37,
     "metadata": {},
     "output_type": "execute_result"
    }
   ],
   "source": [
    "df1.columns"
   ]
  },
  {
   "cell_type": "code",
   "execution_count": 38,
   "id": "126c8052-c5a7-4ff1-9a79-340e9e0128fd",
   "metadata": {},
   "outputs": [
    {
     "name": "stdout",
     "output_type": "stream",
     "text": [
      "Index(['age', 'gender', 'item', 'category', 'purchase_amt_usd', 'Location',\n",
      "       'size', 'color', 'season', 'review_rating', 'subscription_status',\n",
      "       'payment_method', 'shipping', 'discount_applied', 'promo_code_used',\n",
      "       'previous_purchases', 'preferred_payment_method',\n",
      "       'frequency_of_purchases', 'region', 'age_category', 'rating_category'],\n",
      "      dtype='object')\n"
     ]
    }
   ],
   "source": [
    "df1.rename(columns={\n",
    "    'Age': 'age',\n",
    "    'Gender': 'gender',\n",
    "    'Item Purchased': 'item',\n",
    "    'Category': 'category',\n",
    "    'Purchase Amount (USD)': 'purchase_amt_usd',\n",
    "    'Size': 'size',\n",
    "    'Color': 'color',\n",
    "    'Season': 'season',\n",
    "    'Review Rating': 'review_rating',\n",
    "    'Subscription Status': 'subscription_status',  # Removed space for better consistency\n",
    "    'Payment Method': 'payment_method', \n",
    "    'Preferred Payment Method': 'preferred_payment_method',# Changed space to underscore\n",
    "    'Discount Applied':'discount_applied',\n",
    "    'Promo Code Used':'promo_code_used',\n",
    "    'Frequency of Purchases':'frequency_of_purchases',\n",
    "    'Previous Purchases':'previous_purchases',\n",
    "    'Region':'region',\n",
    "    'Age Category': 'age_category',\n",
    "    'Rating Category': 'rating_category',\n",
    "    'Shipping Type': 'shipping',\n",
    "    'Previous Purchases': 'previous_purchases'\n",
    "}, inplace=True)\n",
    "\n",
    "# Check the renamed columns\n",
    "print(df1.columns)"
   ]
  },
  {
   "cell_type": "code",
   "execution_count": 39,
   "id": "c9c4f097-f20d-4654-9623-9f6f6034e236",
   "metadata": {},
   "outputs": [],
   "source": [
    "#save clean file to csv \n",
    "df1.to_excel('clean2_shopping.xlsx')"
   ]
  },
  {
   "cell_type": "markdown",
   "id": "c4f77dd7-05d4-4bff-84f3-cc33ba4685bf",
   "metadata": {},
   "source": [
    "# Exploratory Data Analysis"
   ]
  },
  {
   "cell_type": "code",
   "execution_count": 41,
   "id": "108c2f58-7ff2-4c36-a09c-113caeb7f077",
   "metadata": {},
   "outputs": [],
   "source": [
    "import warnings\n",
    "warnings.filterwarnings('ignore')\n"
   ]
  },
  {
   "cell_type": "code",
   "execution_count": 42,
   "id": "b248ac46-a211-4a42-92a7-6d71a0661901",
   "metadata": {},
   "outputs": [],
   "source": [
    "#selcting categorical and numerical columns \n",
    "\n",
    "cat = df1.select_dtypes(exclude=\"number\")\n",
    "num = df1.select_dtypes(include=\"number\")"
   ]
  },
  {
   "cell_type": "code",
   "execution_count": 43,
   "id": "33ce8222-ed06-4578-80f7-d25ef68c1210",
   "metadata": {},
   "outputs": [],
   "source": [
    "# Being specific - trying to get \n",
    "cat_from_num = num.loc[:, num.nunique() < 10] # how does loc work Vs iloc\n",
    "cat = pd.concat([cat, cat_from_num], axis=1)\n",
    "\n",
    "num = num.drop(columns=cat_from_num.columns)"
   ]
  },
  {
   "cell_type": "code",
   "execution_count": 44,
   "id": "71770191-8461-4f89-a441-31896f1a104f",
   "metadata": {},
   "outputs": [
    {
     "data": {
      "text/plain": [
       "Index(['gender', 'item', 'category', 'Location', 'size', 'color', 'season',\n",
       "       'subscription_status', 'payment_method', 'shipping', 'discount_applied',\n",
       "       'promo_code_used', 'preferred_payment_method', 'frequency_of_purchases',\n",
       "       'region', 'age_category', 'rating_category'],\n",
       "      dtype='object')"
      ]
     },
     "execution_count": 44,
     "metadata": {},
     "output_type": "execute_result"
    }
   ],
   "source": [
    "cat.columns.unique()"
   ]
  },
  {
   "cell_type": "markdown",
   "id": "ae46de73-df55-43f4-bd85-faf0d65c50a7",
   "metadata": {},
   "source": [
    "## Univariate Analysis of Numerical categories "
   ]
  },
  {
   "cell_type": "code",
   "execution_count": 46,
   "id": "e181fdd3-c1b5-4743-8149-7630adf57468",
   "metadata": {},
   "outputs": [
    {
     "data": {
      "text/html": [
       "<div>\n",
       "<style scoped>\n",
       "    .dataframe tbody tr th:only-of-type {\n",
       "        vertical-align: middle;\n",
       "    }\n",
       "\n",
       "    .dataframe tbody tr th {\n",
       "        vertical-align: top;\n",
       "    }\n",
       "\n",
       "    .dataframe thead th {\n",
       "        text-align: right;\n",
       "    }\n",
       "</style>\n",
       "<table border=\"1\" class=\"dataframe\">\n",
       "  <thead>\n",
       "    <tr style=\"text-align: right;\">\n",
       "      <th></th>\n",
       "      <th>age</th>\n",
       "      <th>purchase_amt_usd</th>\n",
       "      <th>review_rating</th>\n",
       "      <th>previous_purchases</th>\n",
       "    </tr>\n",
       "  </thead>\n",
       "  <tbody>\n",
       "    <tr>\n",
       "      <th>count</th>\n",
       "      <td>3900.000000</td>\n",
       "      <td>3900.000000</td>\n",
       "      <td>3900.000000</td>\n",
       "      <td>3900.000000</td>\n",
       "    </tr>\n",
       "    <tr>\n",
       "      <th>mean</th>\n",
       "      <td>44.068462</td>\n",
       "      <td>59.764359</td>\n",
       "      <td>3.749949</td>\n",
       "      <td>25.351538</td>\n",
       "    </tr>\n",
       "    <tr>\n",
       "      <th>std</th>\n",
       "      <td>15.207589</td>\n",
       "      <td>23.685392</td>\n",
       "      <td>0.716223</td>\n",
       "      <td>14.447125</td>\n",
       "    </tr>\n",
       "    <tr>\n",
       "      <th>min</th>\n",
       "      <td>18.000000</td>\n",
       "      <td>20.000000</td>\n",
       "      <td>2.500000</td>\n",
       "      <td>1.000000</td>\n",
       "    </tr>\n",
       "    <tr>\n",
       "      <th>25%</th>\n",
       "      <td>31.000000</td>\n",
       "      <td>39.000000</td>\n",
       "      <td>3.100000</td>\n",
       "      <td>13.000000</td>\n",
       "    </tr>\n",
       "    <tr>\n",
       "      <th>50%</th>\n",
       "      <td>44.000000</td>\n",
       "      <td>60.000000</td>\n",
       "      <td>3.700000</td>\n",
       "      <td>25.000000</td>\n",
       "    </tr>\n",
       "    <tr>\n",
       "      <th>75%</th>\n",
       "      <td>57.000000</td>\n",
       "      <td>81.000000</td>\n",
       "      <td>4.400000</td>\n",
       "      <td>38.000000</td>\n",
       "    </tr>\n",
       "    <tr>\n",
       "      <th>max</th>\n",
       "      <td>70.000000</td>\n",
       "      <td>100.000000</td>\n",
       "      <td>5.000000</td>\n",
       "      <td>50.000000</td>\n",
       "    </tr>\n",
       "  </tbody>\n",
       "</table>\n",
       "</div>"
      ],
      "text/plain": [
       "               age  purchase_amt_usd  review_rating  previous_purchases\n",
       "count  3900.000000       3900.000000    3900.000000         3900.000000\n",
       "mean     44.068462         59.764359       3.749949           25.351538\n",
       "std      15.207589         23.685392       0.716223           14.447125\n",
       "min      18.000000         20.000000       2.500000            1.000000\n",
       "25%      31.000000         39.000000       3.100000           13.000000\n",
       "50%      44.000000         60.000000       3.700000           25.000000\n",
       "75%      57.000000         81.000000       4.400000           38.000000\n",
       "max      70.000000        100.000000       5.000000           50.000000"
      ]
     },
     "execution_count": 46,
     "metadata": {},
     "output_type": "execute_result"
    }
   ],
   "source": [
    "num.describe()"
   ]
  },
  {
   "cell_type": "markdown",
   "id": "270bb7c4-75d7-440e-a989-36d66a61f37a",
   "metadata": {},
   "source": [
    "**DECRIPTION OF PURCHASE_AMT_USD**:\n",
    "\n",
    "1. The dataset contains 3900 observations.\n",
    "2. The average (mean) of the purchase amount is 59.76.\n",
    "3. The standard deviation of the purchase amount is 23.68, which indicates how much the values deviate from the mean.\n",
    "4. The minimum purchase amount is 20.00, and the maximum purchase amount is 100.00.\n",
    "5. The purchase amount at the 25th percentile is 39.00, meaning 25% of the observations have a purchase amount lower than this value.\n",
    "6. The median purchase amount (50th percentile) is 60.00, which is the middle value of the dataset.\n",
    "7. The purchase amount at the 75th percentile is 81.00, meaning 75% of the observations have a purchase amount lower than this value.\n"
   ]
  },
  {
   "cell_type": "markdown",
   "id": "84ba2595-6102-4186-8cb9-834f9df5fb63",
   "metadata": {},
   "source": [
    " **DECRIPTION OF REVIEW RATING**:\n",
    "\n",
    "1. The dataset contains 3900 observations.\n",
    "2. The average (mean) of the rating is 3.74.\n",
    "3. The standard deviation of ratings is 0.71 which indicates how much the values deviate from the mean.\n",
    "4. The minimum ratingis 2.5, and the maximum rating is 5.00\n",
    "5. The rating at the 25th percentile is 3.100, meaning 25% of the observations have a rating lower than this value.\n",
    "6. The median rating (50th percentile) is 3.70, which is the middle value of the dataset.\n",
    "7. The rating at the 75th percentile is 4.40, meaning 75% of the observations have a rating lower than this value.\n"
   ]
  },
  {
   "cell_type": "markdown",
   "id": "f48d0d98-0ffc-49da-a84f-0c334116e1b7",
   "metadata": {},
   "source": [
    "**DECRIPTION OF PREVIOUS PURCHASES**:\n",
    "\n",
    "1. The dataset contains 3900 observations.\n",
    "2. The average (mean) of previous purchases is 25.35.\n",
    "3. The standard deviation of ratings is 14.44 which indicates how much the values deviate from the mean.\n",
    "4. The min purchases is 1.00, and the maximum number of purchase is 50.00.\n",
    "5. The number of purchases at the 25th percentile is 13.00, meaning 25% of the observations have a rating lower than this value.\n",
    "6. The median purchases (50th percentile) are 25.00, which is the middle value of the dataset.\n",
    "7. The purchases at the 75th percentile is 38.00, meaning 75% of the observations are lower than this value.\n"
   ]
  },
  {
   "cell_type": "markdown",
   "id": "fa966642-7073-4990-8d58-012c0efb4b06",
   "metadata": {},
   "source": [
    "**DECRIPTION OF AGE**:\n",
    "\n",
    "1. The dataset contains 3900 observations.\n",
    "2. The average (mean) age is 44.06\n",
    "3. The standard deviation of ratings is 15.20 which indicates how much the values deviate from the mean.\n",
    "4. The minimum age is 18.00, and the maximum rating is 70.00.\n",
    "5. The rating at the 25th percentile is 31.00, meaning 25% of the observations have a rating lower than this value.\n",
    "6. The median rating (50th percentile) is 44.00, which is the middle value of the dataset.\n",
    "7. The rating at the 75th percentile is 57.00, meaning 75% of the observations have a rating lower than this value.\n"
   ]
  },
  {
   "cell_type": "code",
   "execution_count": 51,
   "id": "58773620-547d-48a8-9c36-68a9ffe39b97",
   "metadata": {},
   "outputs": [
    {
     "data": {
      "image/png": "[encoded data removed]",
      "text/plain": [
       "<Figure size 700x500 with 1 Axes>"
      ]
     },
     "metadata": {},
     "output_type": "display_data"
    }
   ],
   "source": [
    "#visualisations of numericals - univariate analysis of purchases amt\n",
    "\n",
    "plt.figure(figsize=(7, 5))\n",
    "sns.histplot(num['purchase_amt_usd'], bins=30, kde=True, color='teal', stat='density', linewidth=0)\n",
    "\n",
    "# Adding title and labels\n",
    "plt.title('Histogram of Purchase Amount (USD)', fontsize=14)\n",
    "plt.xlabel('Purchase Amount (USD)', fontsize=12)\n",
    "plt.ylabel('Density', fontsize=12)\n",
    "\n",
    "# Displaying the plot\n",
    "plt.tight_layout()\n",
    "plt.show()"
   ]
  },
  {
   "cell_type": "code",
   "execution_count": 52,
   "id": "7e5c6783-afb8-4e2c-a7f0-321c597561de",
   "metadata": {},
   "outputs": [
    {
     "ename": "TypeError",
     "evalue": "text() missing 1 required positional argument: 's'",
     "output_type": "error",
     "traceback": [
      "\u001b[0;31m---------------------------------------------------------------------------\u001b[0m",
      "\u001b[0;31mTypeError\u001b[0m                                 Traceback (most recent call last)",
      "Cell \u001b[0;32mIn[52], line 12\u001b[0m\n\u001b[1;32m      8\u001b[0m plt\u001b[38;5;241m.\u001b[39mylabel(\u001b[38;5;124m'\u001b[39m\u001b[38;5;124mDensity\u001b[39m\u001b[38;5;124m'\u001b[39m, fontsize\u001b[38;5;241m=\u001b[39m\u001b[38;5;241m12\u001b[39m)\n\u001b[1;32m     11\u001b[0m \u001b[38;5;66;03m# Place the description inside the plot\u001b[39;00m\n\u001b[0;32m---> 12\u001b[0m plt\u001b[38;5;241m.\u001b[39mtext(\u001b[38;5;241m25\u001b[39m, \u001b[38;5;241m0.025\u001b[39m, fontsize\u001b[38;5;241m=\u001b[39m\u001b[38;5;241m12\u001b[39m, color\u001b[38;5;241m=\u001b[39m\u001b[38;5;124m'\u001b[39m\u001b[38;5;124mblack\u001b[39m\u001b[38;5;124m'\u001b[39m, ha\u001b[38;5;241m=\u001b[39m\u001b[38;5;124m'\u001b[39m\u001b[38;5;124mleft\u001b[39m\u001b[38;5;124m'\u001b[39m, va\u001b[38;5;241m=\u001b[39m\u001b[38;5;124m'\u001b[39m\u001b[38;5;124mtop\u001b[39m\u001b[38;5;124m'\u001b[39m, bbox\u001b[38;5;241m=\u001b[39m\u001b[38;5;28mdict\u001b[39m(facecolor\u001b[38;5;241m=\u001b[39m\u001b[38;5;124m'\u001b[39m\u001b[38;5;124mwhite\u001b[39m\u001b[38;5;124m'\u001b[39m, alpha\u001b[38;5;241m=\u001b[39m\u001b[38;5;241m0.8\u001b[39m))\n\u001b[1;32m     14\u001b[0m \u001b[38;5;66;03m# Display the plot\u001b[39;00m\n\u001b[1;32m     15\u001b[0m plt\u001b[38;5;241m.\u001b[39mtight_layout()\n",
      "\u001b[0;31mTypeError\u001b[0m: text() missing 1 required positional argument: 's'"
     ]
    },
    {
     "data": {
      "image/png": "[encoded data removed]",
      "text/plain": [
       "<Figure size 700x500 with 1 Axes>"
      ]
     },
     "metadata": {},
     "output_type": "display_data"
    }
   ],
   "source": [
    "#Plotting the histogram for 'age'\n",
    "plt.figure(figsize=(7, 5))\n",
    "sns.histplot(num['age'], bins=30, kde=True, color='skyblue', stat='density', linewidth=0)\n",
    "\n",
    "# Add title and labels\n",
    "plt.title('Histogram of Age', fontsize=14)\n",
    "plt.xlabel('Age', fontsize=12)\n",
    "plt.ylabel('Density', fontsize=12)\n",
    "\n",
    "\n",
    "# Place the description inside the plot\n",
    "plt.text(25, 0.025, fontsize=12, color='black', ha='left', va='top', bbox=dict(facecolor='white', alpha=0.8))\n",
    "\n",
    "# Display the plot\n",
    "plt.tight_layout()\n",
    "plt.show()\n"
   ]
  },
  {
   "cell_type": "code",
   "execution_count": null,
   "id": "19cd9a78-1652-4f9a-beaf-ba889ce51c5a",
   "metadata": {},
   "outputs": [],
   "source": [
    "# Plotting the histogram for 'previous_purchases'\n",
    "plt.figure(figsize=(7, 5))\n",
    "sns.histplot(num['previous_purchases'], bins=30, kde=True, color='lightcoral', stat='density', linewidth=0)\n",
    "\n",
    "# Add title and labels\n",
    "plt.title('Histogram of Previous Purchases', fontsize=14)\n",
    "plt.xlabel('Previous Purchases', fontsize=12)\n",
    "plt.ylabel('Density', fontsize=12)\n",
    "\n",
    "# Place the description inside the plot\n",
    "plt.text(10, 0.025, fontsize=12, color='black', ha='left', va='top', bbox=dict(facecolor='white', alpha=0.8))\n",
    "\n",
    "# Display the plot\n",
    "plt.tight_layout()\n",
    "plt.show()\n"
   ]
  },
  {
   "cell_type": "code",
   "execution_count": null,
   "id": "662f3a13-338c-48f1-ab0b-32540fdf770e",
   "metadata": {},
   "outputs": [],
   "source": [
    "#histogram of review_rating\n",
    "\n",
    "plt.figure(figsize=(7, 5))\n",
    "sns.histplot(num['review_rating'], bins=30, kde=True, color='purple', stat='density', linewidth=0)\n",
    "\n",
    "# Adding title and labels\n",
    "plt.title('Histogram of Reviews', fontsize=14)\n",
    "plt.xlabel('Review_Rating', fontsize=12)\n",
    "plt.ylabel('Density', fontsize=12)\n",
    "\n",
    "# Displaying the plot\n",
    "plt.tight_layout()\n",
    "plt.show()"
   ]
  },
  {
   "cell_type": "markdown",
   "id": "bd712615-8b21-4ad3-9d3b-158e06836635",
   "metadata": {},
   "source": [
    "### Univariate analysis of categorical variables \n",
    "####### *each analysis is followed by a visual representation*\n",
    "\n",
    "### Analysed variables after separation of cat from num \n",
    "    1. Season\n",
    "    2. Product Category\n",
    "    3. Gender\n",
    "    4. Age category\n"
   ]
  },
  {
   "cell_type": "code",
   "execution_count": null,
   "id": "c6ad8602-43d2-4ef0-8b85-75df70161d39",
   "metadata": {},
   "outputs": [],
   "source": [
    "#1 Analysis of 'SEASON' with frequency tables for 'season' and visualisation\n",
    "frequency_table = cat[\"season\"].value_counts()\n",
    "frequency_table.reset_index()"
   ]
  },
  {
   "cell_type": "code",
   "execution_count": null,
   "id": "d36e9690-12fd-442a-a0d0-03aebb2b68da",
   "metadata": {},
   "outputs": [],
   "source": [
    "proportion_table = cat.season.value_counts(normalize=True)\n",
    "proportion_table.reset_index()"
   ]
  },
  {
   "cell_type": "code",
   "execution_count": null,
   "id": "4a26b540-d3fb-4755-85da-6a143fb08965",
   "metadata": {},
   "outputs": [],
   "source": [
    "season_df = pd.concat([frequency_table, proportion_table], axis=1)\n",
    "season_df.columns = ['absolute_frequency', 'relative_frequency'] #add column headings \n",
    "season_df #this is what requires visualisation "
   ]
  },
  {
   "cell_type": "code",
   "execution_count": null,
   "id": "d3670a04-3a67-42a2-9429-9e72647ace2f",
   "metadata": {},
   "outputs": [],
   "source": [
    "#a making a total column\n",
    "total_absolute = frequency_table.sum()  #how to add the total \n",
    "total_relative = proportion_table.sum()"
   ]
  },
  {
   "cell_type": "code",
   "execution_count": null,
   "id": "f87825ff-8955-42ac-83f6-ae1b8c1ff4c8",
   "metadata": {},
   "outputs": [],
   "source": [
    "# adding total column \n",
    "total_row = pd.DataFrame({                                                 \n",
    "    'absolute_frequency': [total_absolute],\n",
    "    'relative_frequency': [total_relative]\n",
    "}, index=['Total'])\n",
    "total_row"
   ]
  },
  {
   "cell_type": "code",
   "execution_count": null,
   "id": "063f8d67-e783-4d2d-8f0a-cce4efacc096",
   "metadata": {},
   "outputs": [],
   "source": [
    "#table with total rows \n",
    "season = pd.concat([season_df, total_row])\n",
    "season"
   ]
  },
  {
   "cell_type": "code",
   "execution_count": null,
   "id": "2ad371cf-c0e3-46fd-8d01-1bc67119282a",
   "metadata": {},
   "outputs": [],
   "source": [
    "##visualisation of seasonal sales using a bar plot\n",
    "\n",
    "plt.figure(figsize=(6, 4))  # Adjust the size of the plot\n",
    "sns.barplot(\n",
    "    x='season',                           \n",
    "    y='absolute_frequency',\n",
    "    data=season_df,                            \n",
    "    palette='cubehelix',   \n",
    ")\n",
    "\n",
    "plt.title('Purchase by Season', fontsize=14)\n",
    "\n",
    "# want to show exact figures inside the bars\n",
    "for index, value in enumerate(season_df['absolute_frequency']):\n",
    "    plt.text(index, value - 35.5,   #adjusting where the figure should be\n",
    "             str(value), \n",
    "             ha='center',  # Horizontal alignment (centered)\n",
    "             fontsize=10, \n",
    "             color='white')\n",
    "\n",
    "# Add labels to the axes\n",
    "plt.xlabel('Season', fontsize=13)\n",
    "plt.ylabel('Absolute Frequency', fontsize=13)\n",
    "\n",
    "# Display the plot\n",
    "plt.show()"
   ]
  },
  {
   "cell_type": "code",
   "execution_count": null,
   "id": "5f7bfda7-4640-41a6-85d6-2698d6f33dd8",
   "metadata": {},
   "outputs": [],
   "source": [
    "#Gender univariate analysis\n",
    "#calculating a gender frequency \n",
    "\n",
    "frequency_table = cat[\"gender\"].value_counts()\n",
    "frequency_table.reset_index()"
   ]
  },
  {
   "cell_type": "code",
   "execution_count": null,
   "id": "5989f783-b1e0-45be-b6dc-c711091ecf70",
   "metadata": {},
   "outputs": [],
   "source": [
    "proportion_table = cat.gender.value_counts(normalize=True)\n",
    "proportion_table.reset_index()"
   ]
  },
  {
   "cell_type": "code",
   "execution_count": null,
   "id": "85f0bf1f-21cc-4e7c-8084-52237e3e222f",
   "metadata": {},
   "outputs": [],
   "source": [
    "gender_df=pd.concat([frequency_table, proportion_table], axis=1)\n",
    "gender_df.columns = ['absolute_frequency', 'relative_frequency']\n",
    "gender_df"
   ]
  },
  {
   "cell_type": "code",
   "execution_count": null,
   "id": "39cea83a-3618-48ac-a176-14ab15be57ab",
   "metadata": {},
   "outputs": [],
   "source": [
    "# Product categories frequency table \n",
    "\n",
    "frequency_table = cat[\"category\"].value_counts().reset_index()\n",
    "frequency_table.columns = [\"Category\", \"Frequency\"]\n",
    "\n",
    "#choosing complementary colors from the 'viridis' colormap\n",
    "cmap = plt.cm.plasma\n",
    "colors = [cmap(i / len(frequency_table)) for i in range(len(frequency_table))]\n",
    "\n",
    "# Plotting bar chart\n",
    "plt.figure(figsize=(7, 5))\n",
    "plt.bar(frequency_table[\"Category\"], frequency_table[\"Frequency\"], color=colors, edgecolor='black')\n",
    "\n",
    "# Add labels and title\n",
    "plt.xlabel(\"Category\", fontsize=12)\n",
    "plt.ylabel(\"Count\", fontsize=12)\n",
    "plt.title(\"Product Category Distribution\", fontsize=14)\n",
    "\n",
    "# Show the plot\n",
    "plt.show()"
   ]
  },
  {
   "cell_type": "code",
   "execution_count": null,
   "id": "40e90d4d-4350-469d-a9f3-8c289a602cb6",
   "metadata": {},
   "outputs": [],
   "source": [
    "## Age category univariate analysis\n",
    "\n",
    "frequency_table = cat[\"age_category\"].value_counts()\n",
    "frequency_table.reset_index()"
   ]
  },
  {
   "cell_type": "code",
   "execution_count": null,
   "id": "dfbfa8d5-8446-492c-ac1f-a78a0044304b",
   "metadata": {},
   "outputs": [],
   "source": [
    "proportion_table = cat.age_category.value_counts(normalize=True)\n",
    "proportion_table.reset_index()"
   ]
  },
  {
   "cell_type": "code",
   "execution_count": null,
   "id": "dd417346-af4b-40c6-9987-e51b71d104dc",
   "metadata": {},
   "outputs": [],
   "source": [
    "age_cat=pd.concat([frequency_table, proportion_table], axis=1)\n",
    "age_cat.columns = ['absolute_frequency', 'relative_frequency']\n",
    "age_cat"
   ]
  },
  {
   "cell_type": "code",
   "execution_count": null,
   "id": "526d88e3-45a7-4cda-a44d-d1090b205fb3",
   "metadata": {},
   "outputs": [],
   "source": [
    "# Plotting the bar chart\n",
    "plt.figure(figsize=(7, 5))\n",
    "\n",
    "# Plot absolute frequency\n",
    "sns.barplot(x=age_cat.index, y=age_cat['absolute_frequency'], color='purple', label='Absolute Frequency', alpha=0.7)\n",
    "\n",
    "# Add title and labels\n",
    "plt.title('Absolute and Relative Frequency of Age Categories', fontsize=14)\n",
    "plt.xlabel('Age Group', fontsize=12)\n",
    "plt.ylabel('Count', fontsize=12)\n",
    "\n",
    "# Show the legend\n",
    "plt.legend()\n",
    "\n",
    "# Display the plot\n",
    "plt.tight_layout()\n",
    "plt.show()\n"
   ]
  },
  {
   "cell_type": "markdown",
   "id": "da097804-4b73-4b02-b217-037bccb639d2",
   "metadata": {},
   "source": [
    "## Insights from Univariate analysis:\n",
    "\n",
    "The bar chart indicates that there are slightly more sales in spring than the other seasons.\n",
    "The bar representing Spring is ignificantly taller than the others, emphasizing higher frequency."
   ]
  },
  {
   "cell_type": "markdown",
   "id": "1bc8b5f7-bef6-490a-8db3-eacaaa424ced",
   "metadata": {},
   "source": [
    "# BIVARIATE ANALYSIS\n",
    "\n",
    "### here I want to analyse cat-num variables first: \n",
    "    1. Gender: \n",
    "        a. relationship to frequency of purchases\n",
    "        b. relationship to spending \n",
    "        \n",
    "        \n",
    "    2. income from each popularity (violin plot)\n",
    "    \n",
    "      \n",
    "    3. Ratings and Shipping style \n",
    "    \n",
    "    3. Sales(purchase amt) and season \n",
    "\n",
    "### cat-cat I want to investigate: \n",
    "    3. item and colour preference (specifically clothing or footwear)\n",
    "    4. Gender and category \n",
    "  \n",
    "    "
   ]
  },
  {
   "cell_type": "code",
   "execution_count": null,
   "id": "e1363672-ffae-49d2-bd2f-0d7cfb29ad39",
   "metadata": {},
   "outputs": [],
   "source": [
    "#1a. gender and frequency of purchases \n",
    "\n",
    "pd.crosstab(index=cat.gender, columns='count')"
   ]
  },
  {
   "cell_type": "code",
   "execution_count": null,
   "id": "b262b38d-9e30-454d-a1f3-75f06db4b6dd",
   "metadata": {},
   "outputs": [],
   "source": [
    "\n",
    "crosstab_result= pd.crosstab(cat['gender'], cat['frequency_of_purchases'], margins=True, margins_name=\"Total\")\n",
    "crosstab_result"
   ]
  },
  {
   "cell_type": "code",
   "execution_count": null,
   "id": "cce2173e-346e-40cb-b5ab-347429789626",
   "metadata": {},
   "outputs": [],
   "source": [
    "#visualisation\n",
    "sns.heatmap(crosstab_result, annot=True, cmap=\"Reds\", fmt=\"d\")\n",
    "plt.show()"
   ]
  },
  {
   "cell_type": "markdown",
   "id": "39448eaa-99bb-46e4-b800-239f802f1a35",
   "metadata": {},
   "source": [
    "###Insights: \n",
    "* The heatmap color intensity shows the frequency count of purchases for each factor of the variable gender.\n",
    "* The darker shades in the quarterly and male gender reiterate the high number of purchases made by men quarterly in this area.\n",
    "\n"
   ]
  },
  {
   "cell_type": "code",
   "execution_count": null,
   "id": "496fcd19-fe04-4153-8afa-f9037cecdf4d",
   "metadata": {},
   "outputs": [],
   "source": [
    "#1b. Gender and Average Purchase trends\n",
    "\n",
    "# mean purchase amount for each gender\n",
    "mean_purchase_by_gender = df1.groupby('gender')['purchase_amt_usd'].mean().reset_index()\n",
    "\n",
    "# Bar plot to show average purchase amount by gender\n",
    "plt.figure(figsize=(7, 5))\n",
    "sns.barplot(data=mean_purchase_by_gender, x='gender', y='purchase_amt_usd', palette='cubehelix')\n",
    "\n",
    "# Annotate bars with the average purchase amounts\n",
    "for index, row in mean_purchase_by_gender.iterrows():\n",
    "    plt.text(index, row['purchase_amt_usd'] -5.5, f\"{row['purchase_amt_usd']:.2f}\", ha='center', fontsize=10)\n",
    "\n",
    "# Customize plot\n",
    "plt.title('Average Consumption by Gender', fontsize=13, fontweight ='bold')\n",
    "plt.xlabel('Gender', fontsize=12)\n",
    "plt.ylabel('Average Purchase Amount (USD)', fontsize=12)\n",
    "plt.xticks(fontsize=12)\n",
    "plt.yticks(fontsize=12)\n",
    "\n",
    "plt.tight_layout()\n",
    "plt.show()\n",
    "\n",
    "\n",
    "\n"
   ]
  },
  {
   "cell_type": "markdown",
   "id": "cbf6e9dc-2a89-4c3a-9c78-c23318287e27",
   "metadata": {},
   "source": [
    "###insights:\n",
    "there is not a significant difference between shopping habits between female and male"
   ]
  },
  {
   "cell_type": "code",
   "execution_count": null,
   "id": "d17f8ae0-2ea7-4358-9e18-17955504c603",
   "metadata": {},
   "outputs": [],
   "source": [
    "#season and sales\n",
    "\n",
    "mean_purchase_by_season = df1.groupby('season')['purchase_amt_usd'].mean().reset_index()\n",
    "\n",
    "# Bar plot to show average purchase amount by gender\n",
    "plt.figure(figsize=(7, 5))\n",
    "sns.barplot(data=mean_purchase_by_season, x='season', y='purchase_amt_usd', palette='cubehelix')\n",
    "\n",
    "# Annotate bars with the average purchase amounts\n",
    "for index, row in mean_purchase_by_season.iterrows():\n",
    "    plt.text(index, row['purchase_amt_usd'] -7, f\"{row['purchase_amt_usd']:.2f}\", ha='center', fontsize=12)\n",
    "\n",
    "# Customize plot\n",
    "plt.title('Average Purchase Amount by Seasons', fontsize=13)\n",
    "plt.xlabel('Seasons', fontsize=12, fontweight ='bold')\n",
    "plt.ylabel('Average Purchase Amount (USD)', fontsize=12, fontweight ='bold')\n",
    "plt.xticks(fontsize=12)\n",
    "plt.yticks(fontsize=12)\n",
    "\n",
    "plt.tight_layout()\n",
    "plt.show()\n"
   ]
  },
  {
   "cell_type": "code",
   "execution_count": null,
   "id": "cfba351f-6a04-456d-bc97-bb93dd02d8d4",
   "metadata": {},
   "outputs": [],
   "source": [
    "#2. category and sales/income\n",
    "\n",
    "#creating differnet dfs for different categories of products\n",
    "clothing_df=df1.loc[cat['category']=='Clothing']\n",
    "accessories_df = df1.loc[cat['category']=='Accessories']\n",
    "footwear_df = df1.loc[cat['category'] =='Footwear']\n",
    "outerwear_df= df1.loc[cat['category'] =='Outerwear']\n"
   ]
  },
  {
   "cell_type": "code",
   "execution_count": null,
   "id": "57974ca0-805e-4a83-82f8-768c36ffa7f5",
   "metadata": {},
   "outputs": [],
   "source": [
    "#creating four difference violin plots to calculate popularity and income from each category\n",
    "\n",
    "total_clothing = clothing_df['purchase_amt_usd'].sum()\n",
    "total_accessories = accessories_df['purchase_amt_usd'].sum()\n",
    "total_footwear = footwear_df['purchase_amt_usd'].sum()\n",
    "total_outerwear = outerwear_df['purchase_amt_usd'].sum()\n",
    "\n",
    "# Creating subplots for the four violin plots\n",
    "fig, axes = plt.subplots(2, 2, figsize=(8, 6))  # 2x2 layout for the plots\n",
    "\n",
    "# Plot for Clothing\n",
    "sns.violinplot(ax=axes[0, 0], x='category', y='purchase_amt_usd', data=clothing_df, color='violet')\n",
    "axes[0, 0].set_title('Clothing', fontsize=14)\n",
    "axes[0, 0].set_xlabel('Category')\n",
    "axes[0, 0].set_ylabel('Purchase Amount (USD)')\n",
    "axes[0, 0].legend([f'Total: ${total_clothing:.2f}'], loc='upper right')\n",
    "\n",
    "# Plot for Accessories\n",
    "sns.violinplot(ax=axes[0, 1], x='category', y='purchase_amt_usd', data=accessories_df, color='purple')\n",
    "axes[0, 1].set_title('Accessories', fontsize=14)\n",
    "axes[0, 1].set_xlabel('Category')\n",
    "axes[0, 1].set_ylabel('Purchase Amount (USD)')\n",
    "axes[0, 1].legend([f'Total: ${total_accessories:.2f}'], loc='upper right')\n",
    "\n",
    "# Plot for Footwear\n",
    "sns.violinplot(ax=axes[1, 0], x='category', y='purchase_amt_usd', data=footwear_df, color='skyblue')\n",
    "axes[1, 0].set_title('Footwear', fontsize=14)\n",
    "axes[1, 0].set_xlabel('Category')\n",
    "axes[1, 0].set_ylabel('Purchase Amount (USD)')\n",
    "axes[1, 0].legend([f'Total: ${total_footwear:.2f}'], loc='upper right')\n",
    "\n",
    "# Plot for Outerwear\n",
    "sns.violinplot(ax=axes[1, 1], x='category', y='purchase_amt_usd', data=outerwear_df, color='salmon')\n",
    "axes[1, 1].set_title('Outerwear', fontsize=14)\n",
    "axes[1, 1].set_xlabel('Category')\n",
    "axes[1, 1].set_ylabel('Purchase Amount (USD)')\n",
    "axes[1, 1].legend([f'Total: ${total_outerwear:.2f}'], loc='upper right')\n",
    "\n",
    "# Adjust layout\n",
    "plt.tight_layout()\n",
    "plt.show()\n"
   ]
  },
  {
   "cell_type": "raw",
   "id": "42325e8f-62f2-469a-a2d0-fb273043ca23",
   "metadata": {},
   "source": [
    "##insights \n",
    "\n",
    "1.Clothing is the most popular product category. \n",
    "2. KDE - outer layer of the violin plot indicates a wide higher density with more data points - slightly cheaper clothing between 25 and 40 dollars slightly more popular.\n",
    "3. Overall all the violin plots show a uniform distribution with no significant outliers"
   ]
  },
  {
   "cell_type": "code",
   "execution_count": null,
   "id": "c22b0334-4252-4317-aa8b-d9bb0844aa68",
   "metadata": {},
   "outputs": [],
   "source": [
    "#item and their popularity in sales\n",
    "\n",
    "plt.figure(figsize=(12, 8))  # Adjust width and height as needed\n",
    "\n",
    "# Example Boxplot\n",
    "sns.boxplot(data=df1, x=\"item\", y=\"purchase_amt_usd\", palette=\"cubehelix\")\n",
    "\n",
    "# Set title and axis labels\n",
    "plt.title(\"Boxplot of Purchase Amounts by Item\", fontsize=13)\n",
    "plt.xlabel(\"Item\", fontsize=12)\n",
    "plt.ylabel(\"Purchase Amount (USD)\", fontsize=12)\n",
    "\n",
    "# Customize tick labels\n",
    "plt.xticks(fontsize=10, rotation=90)  # Rotate x-axis labels if needed\n",
    "plt.yticks(fontsize=10)\n",
    "\n",
    "\n",
    "# Show the plot\n",
    "plt.show()\n",
    "\n"
   ]
  },
  {
   "cell_type": "code",
   "execution_count": null,
   "id": "3c422532-87d3-4285-9183-6aa4368e8a7f",
   "metadata": {},
   "outputs": [],
   "source": [
    "#3. Relationship between ratings and shipping method\n",
    "\n",
    "\n",
    "mean_ratings = df1.groupby('shipping')['review_rating'].mean().reset_index()\n",
    "\n",
    "# Bar plot to show mean ratings by shipping method\n",
    "plt.figure(figsize=(7, 5))\n",
    "sns.barplot(data=mean_ratings, x='shipping', y='review_rating', palette= 'cubehelix')\n",
    "\n",
    "# Annotate bars with average ratings\n",
    "for index, row in mean_ratings.iterrows():\n",
    "    plt.text(index, row['review_rating'] -0.20, f\"{row['review_rating']:.2f}\", ha='center', fontsize=12)\n",
    "\n",
    "# Customize plot\n",
    "plt.title('Average Review Rating by Shipping Method', fontsize=14)\n",
    "plt.xlabel('Shipping Method', fontsize=14)\n",
    "plt.ylabel('Average Review Rating', fontsize=14)\n",
    "plt.xticks(fontsize=10)\n",
    "plt.yticks(fontsize=10)\n",
    "\n",
    "plt.tight_layout()\n",
    "plt.show()\n"
   ]
  },
  {
   "cell_type": "markdown",
   "id": "e977c538-3ca0-4433-b07b-04886b1d3804",
   "metadata": {},
   "source": [
    "###insights\n",
    "* in this analysis there is no significant impact of shipping method on rating.\n",
    "* we can infer that pick up as an option is working\n",
    "  "
   ]
  },
  {
   "attachments": {},
   "cell_type": "markdown",
   "id": "8e0725a5-9cf9-4d73-9d1a-3ec6a2d4dd87",
   "metadata": {},
   "source": [
    "## Cat-cat bivariate analysis\n",
    "\n",
    "cat.columns"
   ]
  },
  {
   "cell_type": "code",
   "execution_count": null,
   "id": "22c10624-a6d9-4ec5-8f3b-fef83a97a170",
   "metadata": {},
   "outputs": [],
   "source": [
    "#item sale and season relationship\n",
    "\n",
    "\n",
    "plt.figure(figsize=(10, 6))\n",
    "\n",
    "# Plot the countplot for item and season\n",
    "sns.countplot(data=cat, x='category', hue='season', palette='cubehelix')\n",
    "\n",
    "\n",
    "#Annotate with numbers for sale (count)\n",
    "for p in plt.gca().patches:\n",
    "    # Get the height of each bar\n",
    "    height = p.get_height()\n",
    "    # Get the x position of the bar\n",
    "    x_position = p.get_x() + p.get_width() / 2\n",
    "    # Annotate the count value on top of the bars\n",
    "    plt.text(x_position, height + 0.1, f'{int(height)}', ha='center', va='bottom', fontsize=10)\n",
    "\n",
    "# Set title and axis labels\n",
    "plt.title('Product Category vs Season', fontsize=16)\n",
    "plt.xlabel('Product', fontsize=14)\n",
    "plt.ylabel('Sales', fontsize=14)\n",
    "\n",
    "# Show the plot\n",
    "plt.show()"
   ]
  },
  {
   "cell_type": "markdown",
   "id": "ae42be5e-4925-4b52-9b1d-b4b347fd98ca",
   "metadata": {},
   "source": [
    "###insights\n",
    "* Clothing and footwear registers highest sales in Spring and winter respectively\n",
    "* Accessories and outerwear register highest sales somehow in autumn - maybe because it is cold\n"
   ]
  },
  {
   "cell_type": "code",
   "execution_count": null,
   "id": "3ae893bc-12f4-4ef6-9875-937f467aab85",
   "metadata": {},
   "outputs": [],
   "source": [
    "#1. category popularity by gender \n",
    "\n",
    "\n",
    "clothing_gender_counts = clothing_df['gender'].value_counts()\n",
    "accessories_gender_counts = accessories_df['gender'].value_counts()\n",
    "outerwear_gender_counts = outerwear_df['gender'].value_counts()\n",
    "footwear_gender_counts = footwear_df['gender'].value_counts()\n",
    "\n",
    "gender_counts = pd.DataFrame({\n",
    "    'Clothing': clothing_gender_counts,\n",
    "    'Accessories': accessories_gender_counts,\n",
    "    'Outerwear': outerwear_gender_counts,\n",
    "    'Footwear': footwear_gender_counts\n",
    "}).fillna(0)  # Fill NaN values with 0 in case some categories are missing gender counts\n",
    "\n",
    "# Plot a stacked bar chart\n",
    "ax = gender_counts.T.plot(kind='bar', stacked=True, figsize=(7, 4), color=['#b0c4de', '#ffb6c1'],  # Purple and Blue\n",
    "    edgecolor='black', \n",
    "    alpha=0.9 )\n",
    "\n",
    "# Customize the plot labels and title\n",
    "plt.title('Gender Distribution by Product Category', fontsize=13)\n",
    "plt.xlabel('Product Categories', fontsize=12)\n",
    "plt.ylabel('Count of Gender', fontsize=12)\n",
    "plt.xticks(rotation=45, ha='right', fontsize=10)\n",
    "plt.yticks(fontsize=10)\n",
    "\n",
    "# Add a legend to indicate the gender labels\n",
    "plt.legend(title=\"Gender\", fontsize=12)\n",
    "\n",
    "# Display the plot\n",
    "plt.tight_layout()\n",
    "plt.show()\n"
   ]
  },
  {
   "cell_type": "code",
   "execution_count": null,
   "id": "906d08d0-c9d7-4a25-9f3c-bf9ee39143bc",
   "metadata": {},
   "outputs": [],
   "source": [
    "#stacked bar chart for age and item purchase \n",
    "#visualise with tableau\n",
    "\n",
    "# Plot the stacked bar plot for age_category and item\n",
    "age_item_counts = pd.crosstab(cat['item'], cat['age_category'])\n",
    "age_item_counts.plot(kind='bar', stacked=True, figsize=(8, 6), colormap='cividis')\n",
    "\n",
    "# Set title and axis labels\n",
    "plt.title('Bivariate Analysis: Age Category vs Item', fontsize=14)\n",
    "plt.xlabel('Item', fontsize=12)\n",
    "plt.ylabel('Count', fontsize=12)\n",
    "\n",
    "# Show the plot\n",
    "plt.show()\n"
   ]
  },
  {
   "cell_type": "markdown",
   "id": "722be3d1-c164-4704-b891-65e76edffb7e",
   "metadata": {},
   "source": [
    "###insights: \n",
    "include exact numbers in the bars\n"
   ]
  },
  {
   "cell_type": "markdown",
   "id": "15bf5ef2-f405-40d7-a0d6-714f914579a2",
   "metadata": {},
   "source": [
    "# UNDERSTANDING THE TEEN DATASET"
   ]
  },
  {
   "cell_type": "code",
   "execution_count": null,
   "id": "c1fdac0b-8599-4bf9-bafa-9c6f89f78574",
   "metadata": {},
   "outputs": [],
   "source": [
    "df1.age_category.unique()"
   ]
  },
  {
   "cell_type": "code",
   "execution_count": null,
   "id": "996b5081-36dd-4bca-9c4b-74e5fe15cce8",
   "metadata": {},
   "outputs": [],
   "source": [
    "#UNDERSTANDING TEEN PREFERENCES - REGION BASED AND ITEMS \n",
    "\n",
    "# Filter data for teens\n",
    "teens_data = df1[df1['age_category'] == 'Teen']\n",
    "teens_data.shape\n",
    "teens_data['age_category'].value_counts()"
   ]
  },
  {
   "cell_type": "code",
   "execution_count": null,
   "id": "e009499f-1c39-447f-8623-8cf966953b4e",
   "metadata": {},
   "outputs": [],
   "source": [
    "teens_data.isnull().sum()\n",
    "#review rating is showing null so dealing with rating_category is not |needed "
   ]
  },
  {
   "cell_type": "code",
   "execution_count": null,
   "id": "beaea76f-de7b-4470-bb21-2ed5d4f03e83",
   "metadata": {},
   "outputs": [],
   "source": [
    "# average  amount spent by teens\n",
    "\n",
    "total_purchase_amt_teens = teens_data['purchase_amt_usd'].sum()\n",
    "\n",
    "teen_count = teens_data['age_category'].value_counts()\n",
    "\n",
    "average_amt_per_teen =total_purchase_amt_teens/teen_count\n",
    "\n",
    "print(f\"Average amount spent per Teen: {average_amt_per_teen:}\")\n",
    "\n"
   ]
  },
  {
   "cell_type": "code",
   "execution_count": null,
   "id": "291585e6-a391-4b6f-abbd-e7dbeca677f0",
   "metadata": {},
   "outputs": [],
   "source": [
    "\n",
    "# Create a crosstab for teens and items\n",
    "teens_item_counts = pd.crosstab(teens_data['item'], teens_data['age_category'])\n",
    "\n",
    "# Plot a stacked bar chart\n",
    "ax = teens_item_counts.plot(kind='bar', stacked=True, figsize=(10, 8), colormap='cividis')\n",
    "\n",
    "# Annotate with exact numbers\n",
    "for p in ax.patches:\n",
    "    height = p.get_height()\n",
    "    if height > 0:  # Annotate only non-zero heights\n",
    "        ax.text(p.get_x() + p.get_width() / 2, p.get_y() + height / 2,\n",
    "                f'{int(height)}', ha='center', va='center', fontsize=10, color='white')\n",
    "\n",
    "# Add title and labels\n",
    "plt.title('Teen Purchases by Item', fontsize=14)\n",
    "plt.xlabel('Item', fontsize=12)\n",
    "plt.ylabel('Count', fontsize=12)\n",
    "\n",
    "plt.show()\n"
   ]
  },
  {
   "cell_type": "code",
   "execution_count": null,
   "id": "7a66aadc-1f6f-48a0-9770-fec5399ba085",
   "metadata": {},
   "outputs": [],
   "source": [
    "#top ten items\n",
    "\n",
    "# Count the total number of purchases for each item\n",
    "item_counts = teens_data['item'].value_counts()\n",
    "\n",
    "# Select the top 10 items based on their counts\n",
    "top_10_items = item_counts.nlargest(10)\n",
    "\n",
    "# Create a horizontal bar plot for the top 10 items\n",
    "plt.figure(figsize=(8, 6))\n",
    "ax = sns.barplot(x=top_10_items.values, y=top_10_items.index, palette='plasma', orient='h')\n",
    "\n",
    "# Annotate with the exact count for each bar\n",
    "for p in ax.patches:\n",
    "    ax.annotate(f'{int(p.get_width())}', \n",
    "                (p.get_width(), p.get_y() + p.get_height() / 2.), \n",
    "                ha='left', va='center', fontsize=8, color='black', \n",
    "                xytext=(5, 0), textcoords='offset points')\n",
    "\n",
    "# Add title and labels\n",
    "plt.title('Top 10 Teen Purchases by Item', fontsize=14)\n",
    "plt.xlabel('Count', fontsize=12, fontweight ='bold')\n",
    "plt.ylabel('Item', fontsize=12, fontweight ='bold')\n",
    "\n",
    "plt.show()\n",
    "\n"
   ]
  },
  {
   "cell_type": "code",
   "execution_count": null,
   "id": "e1c5ec87-9577-416f-ba34-e0628db30ee2",
   "metadata": {},
   "outputs": [],
   "source": [
    "#top ten items\n",
    "\n",
    "# Count the total number of purchases for each item\n",
    "cat_counts = teens_data['category'].value_counts()\n",
    "\n",
    "# Select the top 10 items based on their counts\n",
    "top_4_categories = cat_counts.nlargest(4)\n",
    "\n",
    "# Create a horizontal bar plot for the top 10 items\n",
    "plt.figure(figsize=(8, 6))\n",
    "ax = sns.barplot(x=top_4_categories.values, y=top_4_categories.index, palette='plasma', orient='h')\n",
    "\n",
    "# Annotate with the exact count for each bar\n",
    "for p in ax.patches:\n",
    "    ax.annotate(f'{int(p.get_width())}', \n",
    "                (p.get_width(), p.get_y() + p.get_height() / 2.), \n",
    "                ha='left', va='center', fontsize=8, color='black', \n",
    "                xytext=(5, 0), textcoords='offset points')\n",
    "\n",
    "# Add title and labels\n",
    "plt.title('Top Categories', fontsize=14)\n",
    "plt.xlabel('Count', fontsize=12, fontweight ='bold')\n",
    "plt.ylabel('Category', fontsize=12, fontweight ='bold')\n",
    "\n",
    "plt.show()"
   ]
  },
  {
   "cell_type": "code",
   "execution_count": null,
   "id": "0c100492-0f94-4a38-8929-969652dae0b6",
   "metadata": {},
   "outputs": [],
   "source": [
    "# tabular data for seasons and teen purchases\n",
    "\n",
    "top_10_data = teens_data[teens_data['item'].isin(top_10_items.index)]\n",
    "\n",
    "# Create a crosstab for the top 10 items and seasons\n",
    "top_10_item_season_counts = pd.crosstab(top_10_data['item'], top_10_data['season'])\n",
    "\n",
    "# Display the crosstab table\n",
    "print(top_10_item_season_counts)"
   ]
  },
  {
   "cell_type": "code",
   "execution_count": null,
   "id": "29b42b54-ffe6-4fcc-a25f-fa8e4e5e974b",
   "metadata": {},
   "outputs": [],
   "source": [
    "teens_data.columns"
   ]
  },
  {
   "cell_type": "code",
   "execution_count": null,
   "id": "a37cafbf-35a2-4b4c-9555-4360569e35d1",
   "metadata": {},
   "outputs": [],
   "source": [
    "\n",
    "\n",
    "# Group by item and color to analyze preferences\n",
    "item_color_preferences = top_10_data.groupby(['item', 'color']).size().reset_index(name='count')\n",
    "\n",
    "print (item_color_preferences)"
   ]
  },
  {
   "cell_type": "code",
   "execution_count": null,
   "id": "3c0f5a59-1a12-48c7-bfb6-ec06a9a8716c",
   "metadata": {},
   "outputs": [],
   "source": [
    "# Filter the data for top 10 items\n",
    "top_10_data = teens_data[teens_data['item'].isin(top_10_items.index)]\n",
    "\n",
    "# Create a crosstab for the top 10 items and seasons\n",
    "top_10_item_season_counts = pd.crosstab(top_10_data['item'], top_10_data['season'])\n",
    "\n",
    "# Create a heatmap for the crosstab data\n",
    "plt.figure(figsize=(10, 6))\n",
    "sns.heatmap(top_10_item_season_counts, annot=True, fmt='d', cmap='magma', cbar=True, linewidths=0.5)\n",
    "\n",
    "# Add title and labels\n",
    "plt.title('Heatmap of Top 10 Teen Purchases by Item and Season', fontsize=14)\n",
    "plt.xlabel('Season', fontsize=12, fontweight ='bold')\n",
    "plt.ylabel('Item', fontsize=12, fontweight ='bold')\n",
    "\n",
    "# Show the plot\n",
    "plt.show()"
   ]
  },
  {
   "cell_type": "code",
   "execution_count": null,
   "id": "c0635d6a-5d7f-4e6b-ae4a-0a4de2203477",
   "metadata": {},
   "outputs": [],
   "source": [
    "# Calculate average review ratings for each item\n",
    "item_rating_summary = teens_data.groupby('item')['review_rating'].mean().reset_index()\n",
    "\n",
    "# Find the top 5 highest-rated and 5 lowest-rated items\n",
    "highest_rated_items = item_rating_summary.nlargest(5, 'review_rating')\n",
    "lowest_rated_items = item_rating_summary.nsmallest(5, 'review_rating')\n",
    "\n",
    "print(\"Highest Rated Items:\")\n",
    "print(highest_rated_items)\n",
    "\n",
    "print(\"\\nLowest Rated Items:\")\n",
    "print(lowest_rated_items)\n"
   ]
  },
  {
   "cell_type": "code",
   "execution_count": null,
   "id": "78f2809d-0223-401b-b96d-4c6335d41cf1",
   "metadata": {},
   "outputs": [],
   "source": [
    "#want to do - clothing colour and guide\n",
    "#payment preferred, payment mode, and age\n",
    "#region, category, and gender \n",
    "#age, item, gender"
   ]
  },
  {
   "cell_type": "code",
   "execution_count": null,
   "id": "77559f52-ef23-4efa-8fda-1f6e942b1e30",
   "metadata": {},
   "outputs": [],
   "source": [
    "\n",
    "# Set up side-by-side plots\n",
    "fig, axes = plt.subplots(1, 2, figsize=(14, 6), sharey=True)\n",
    "\n",
    "# Left plot: Lowest-rated items\n",
    "sns.barplot(data=lowest_rated_items, x='review_rating', y='item', ax=axes[0], palette='Reds_d')\n",
    "axes[0].set_title('Worst-Rated Items', fontsize=16)\n",
    "axes[0].set_xlabel('Average Rating', fontsize=12)\n",
    "axes[0].set_ylabel('Item', fontsize=12)\n",
    "\n",
    "# Annotate with exact ratings\n",
    "for bar in axes[0].containers[0]:\n",
    "    axes[0].annotate(f'{bar.get_width():.1f}', xy=(bar.get_width(), bar.get_y() + bar.get_height() / 2),\n",
    "                     ha='left', va='center', fontsize=10, color='black')\n",
    "\n",
    "# Right plot: Highest-rated items\n",
    "sns.barplot(data=highest_rated_items, x='review_rating', y='item', ax=axes[1], palette='Greens_d')\n",
    "axes[1].set_title('Best-Rated Items', fontsize=16)\n",
    "axes[1].set_xlabel('Average Rating', fontsize=12)\n",
    "axes[1].set_ylabel('')  # Hide the y-label for symmetry\n",
    "\n",
    "# Annotate with exact ratings\n",
    "for bar in axes[1].containers[0]:\n",
    "    axes[1].annotate(f'{bar.get_width():.1f}', xy=(bar.get_width(), bar.get_y() + bar.get_height() / 2),\n",
    "                     ha='left', va='center', fontsize=10, color='black')\n",
    "\n",
    "# Adjust layout\n",
    "plt.tight_layout()\n",
    "plt.show()\n"
   ]
  },
  {
   "cell_type": "code",
   "execution_count": null,
   "id": "5fa4fac7-b532-46bf-b664-45442f7f795b",
   "metadata": {},
   "outputs": [],
   "source": [
    "# Count the number of teens in each region\n",
    "region_counts = teens_data['region'].value_counts()\n",
    "\n",
    "print(\"Teen counts by region:\")\n",
    "print(region_counts)\n"
   ]
  },
  {
   "cell_type": "code",
   "execution_count": null,
   "id": "a1ae510b-3230-4567-9cb2-d790d3245e27",
   "metadata": {},
   "outputs": [],
   "source": [
    "\n",
    "# Bar chart\n",
    "plt.figure(figsize=(10, 6))\n",
    "sns.barplot(x=region_counts.values, y=region_counts.index, palette='coolwarm')\n",
    "\n",
    "# Add title and labels\n",
    "plt.title('Teen Counts by Region', fontsize=16)\n",
    "plt.xlabel('Number of Teens', fontsize=14)\n",
    "plt.ylabel('Region', fontsize=14)\n",
    "\n",
    "# Annotate with exact numbers\n",
    "for i, value in enumerate(region_counts.values):\n",
    "    plt.text(value, i, str(value), va='center', fontsize=10, color='black')\n",
    "\n",
    "plt.show()\n"
   ]
  },
  {
   "cell_type": "code",
   "execution_count": null,
   "id": "a01f9faf-df58-4d4b-bdc9-7cba76cbf62b",
   "metadata": {},
   "outputs": [],
   "source": [
    "#categoricals only - gender and usage of promo, discounts \n",
    "\n",
    "# Create a FacetGrid to visualize Gender distribution across Discount Applied and Promo Code Used\n",
    "g = sns.FacetGrid(df1, col='discount_applied', row='promo_code_used', hue='gender', height=4, margin_titles=True)\n",
    "\n",
    "# Map the countplot to the grid\n",
    "g.map(sns.countplot, 'gender', palette='Set2')\n",
    "\n",
    "# Add the exact counts on top of the bars\n",
    "def add_labels(ax):\n",
    "    for p in ax.patches:\n",
    "        height = p.get_height()\n",
    "        width = p.get_width()\n",
    "        x = p.get_x() + width / 2\n",
    "        y = p.get_y() + height\n",
    "        ax.text(x, y, f'{int(height)}', ha='center', va='bottom', fontsize=10)\n",
    "\n",
    "# Apply the label function to each axis\n",
    "g.map(add_labels)\n",
    "\n",
    "# Customize the plot\n",
    "g.fig.suptitle('Gender Distribution by Discount Applied and Promo Code Used', fontsize=16)  # Title for the entire grid\n",
    "g.set_axis_labels('Gender', 'Count')  # Axis labels for all subplots\n",
    "g.set_titles(col_template=\"Discount: {col_name}\", row_template=\"Promo Code: {row_name}\")  # Titles for each subplot\n",
    "g.tight_layout()  # Adjust layout for better spacing\n",
    "g.fig.subplots_adjust(top=0.9)  # Adjust the title position for better spacing\n",
    "\n",
    "# Show the plot\n",
    "plt.show()\n",
    "\n"
   ]
  },
  {
   "cell_type": "code",
   "execution_count": null,
   "id": "e8e9749a-2e78-4246-a6ed-130a964780e9",
   "metadata": {},
   "outputs": [],
   "source": [
    "#numerical-categorical multivariate \n",
    "\n",
    "\n",
    "df_encoded = pd.get_dummies(df1, columns=['region'], drop_first=True)\n",
    "\n",
    "# Calculate correlation matrixdataplot = sb.heatmap(data.corr(numeric_only=True))\n",
    "\n",
    "# Displaying heatmap\n",
    "mp.show()\n",
    "corr_matrix = df_encoded[['age', 'purchase_amt_usd'] + [col for col in df_encoded.columns if 'region_' in col]].corr()\n",
    "\n",
    "# Plot a heatmap\n",
    "plt.figure(figsize=(8, 6))\n",
    "sns.heatmap(corr_matrix, annot=True, cmap='viridis', fmt='.2f', linewidths=1, linecolor='black')\n",
    "plt.title('Correlation Heatmap between Age, Purchase Amount and Region', fontsize=14)\n",
    "plt.show()\n"
   ]
  },
  {
   "cell_type": "markdown",
   "id": "a41a0196-0d7b-4b10-8d13-4d1f9801bb67",
   "metadata": {},
   "source": [
    "# correlation tests:\n",
    "#chi square \n",
    "Tests the independence of two categorical variables by comparing observed frequencies to expected frequencies.\n",
    "\n",
    "- The chi-square test is a statistical test used to **determine whether there is a significant association between two categorical variables**. \n",
    "- Interpretation: if p-value < 0.05, this suggests that there is a significant association between the categorical variables. P-value >= 0.05, indicates that there is not enough evidence to conclude a significant association between the variables. "
   ]
  },
  {
   "cell_type": "code",
   "execution_count": null,
   "id": "b39849dd-3e90-4e3f-bb2e-2181bd07ce54",
   "metadata": {},
   "outputs": [],
   "source": [
    "#pearson calculations\n",
    "df1['purchase_amt_usd'].corr(df1['previous_purchases']) # PEARSON"
   ]
  },
  {
   "cell_type": "code",
   "execution_count": null,
   "id": "f25f7a11-c76a-4f5c-83c2-0c00bab9e3e5",
   "metadata": {},
   "outputs": [],
   "source": [
    "df1['purchase_amt_usd'].corr(df1['review_rating']) # PEARSON"
   ]
  },
  {
   "cell_type": "code",
   "execution_count": null,
   "id": "b05a4d64-84a8-4ffa-beba-e008c29b7d14",
   "metadata": {},
   "outputs": [],
   "source": [
    "#spearman calculations\n",
    "df1['purchase_amt_usd'].corr(df1['review_rating'], method ='spearman') # PEARSON"
   ]
  },
  {
   "cell_type": "code",
   "execution_count": null,
   "id": "640ba07c-8d2a-4024-ba7a-f8c1a42998eb",
   "metadata": {},
   "outputs": [],
   "source": [
    "df1['purchase_amt_usd'].corr(df1['previous_purchases'], method = 'spearman') # PEARSON"
   ]
  },
  {
   "cell_type": "markdown",
   "id": "bf59a744-ee0f-4cbd-9fcc-856cf7691a1a",
   "metadata": {},
   "source": [
    "**Pearson Correlation**: (0.0080)\n",
    "**Spearman Correlation**: (0.0083)\n",
    "Insights:\n",
    "\n",
    "The Pearson correlation suggests a positive but weak linear relationship between previous purchases and the current purchase amt \n",
    "\n",
    "The Spearman correlation also indicates a positive btu very weak or no monotonic relationship between the two variables.  \n",
    "\n",
    "Essentially they indicate no correlation"
   ]
  },
  {
   "cell_type": "code",
   "execution_count": null,
   "id": "2588ee61-7837-4d93-b339-9a020d645364",
   "metadata": {
    "scrolled": true
   },
   "outputs": [],
   "source": [
    "num.corr()[\"purchase_amt_usd\"].sort_values(ascending=False)"
   ]
  },
  {
   "cell_type": "code",
   "execution_count": null,
   "id": "6e2eeaed-b324-4d0f-9e88-19889b61c052",
   "metadata": {},
   "outputs": [],
   "source": [
    "correlation_matrix = num.corr()"
   ]
  },
  {
   "cell_type": "code",
   "execution_count": null,
   "id": "ccdebad8-595c-48ff-919b-af28816f317c",
   "metadata": {},
   "outputs": [],
   "source": [
    "# Setting up the matplotlib figure with an appropriate size\n",
    "plt.figure(figsize=(10, 8))\n",
    "\n",
    "# Drawing the heatmap for the numerical columns\n",
    "sns.heatmap(correlation_matrix, annot=True, cmap=\"coolwarm\")\n",
    "\n",
    "plt.title(\"Correlation Heatmap for Selected Numerical Variables\")\n",
    "plt.show()"
   ]
  },
  {
   "cell_type": "code",
   "execution_count": null,
   "id": "70d4fefc-978f-4b5c-824e-e00cf1d423b6",
   "metadata": {},
   "outputs": [],
   "source": [
    "sns.scatterplot(data=num, x='purchase_amt_usd', y='review_rating')\n",
    "plt.show()"
   ]
  },
  {
   "cell_type": "code",
   "execution_count": null,
   "id": "350976ad-c345-4955-be97-a647f6aab817",
   "metadata": {},
   "outputs": [],
   "source": [
    "Insights:\n",
    "\n",
    "Positive Relationship: The plot clearly shows no relationship between the two variables - review rating or puchasing amount."
   ]
  },
  {
   "cell_type": "code",
   "execution_count": null,
   "id": "6c414212-c8bb-4cd8-a8cc-cde3dfdaa722",
   "metadata": {},
   "outputs": [],
   "source": [
    "#checking for outliers\n",
    "\n",
    "\n",
    "def tukeys_test_outliers(data):\n",
    "    Q1 = data.quantile(0.25)\n",
    "    Q3 = data.quantile(0.75)\n",
    "    IQR = Q3 - Q1\n",
    "    \n",
    "    # Define bounds for the outliers\n",
    "    lower_bound = Q1 - 1.5 * IQR\n",
    "    upper_bound = Q3 + 1.5 * IQR\n",
    "    \n",
    "    # Identify the outliers\n",
    "    outliers = num[(num < lower_bound) | (num > upper_bound)]\n",
    "    \n",
    "    return outliers\n",
    "\n",
    "data_series = num['purchase_amt_usd']  # replace 'ColumnName' with your specific column\n",
    "outliers = tukeys_test_outliers(data_series)\n",
    "outliers.sum()"
   ]
  },
  {
   "cell_type": "code",
   "execution_count": null,
   "id": "d440a730-c3c9-4651-84e1-96c479a06bdb",
   "metadata": {},
   "outputs": [],
   "source": [
    "#ANOVA TESTING\n",
    "\n",
    "\n",
    "# Ensure 'Promo_Code_Used' is nums - anova requires it to be 1 or 0 even if categorical \n",
    "cat['discount_applied'] = pd.to_numeric(cat['discount_applied'], errors='coerce')\n",
    "\n",
    "# Group the data by Gender and get the promo code usage (1 or 0)\n",
    "grouped = cat.groupby('age_category')['discount_applied'].apply(list)\n",
    "\n",
    "# Perform ANOVA test\n",
    "f_statistic, p_value = stats.f_oneway(grouped['Teen'], grouped['Adult'])\n",
    "\n",
    "# Print the results\n",
    "print(\"F-statistic:\", f_statistic)\n",
    "print(\"P-value:\", p_value)\n",
    "\n",
    "# Interpret the result\n",
    "if p_value < 0.05:\n",
    "    print(\"There is a significant difference between the genders and discount usage.\")\n",
    "else:\n",
    "    print(\"There is no significant difference between the genders and discount usage.\")\n",
    "\n"
   ]
  },
  {
   "cell_type": "code",
   "execution_count": null,
   "id": "54654aab-c03e-43c6-8f6b-89bf24d3f114",
   "metadata": {},
   "outputs": [],
   "source": [
    "cat.columns"
   ]
  },
  {
   "cell_type": "code",
   "execution_count": null,
   "id": "0b03f5d3-05d2-4372-9f4f-f1843a0a5c33",
   "metadata": {},
   "outputs": [],
   "source": [
    "# Test for uniform distributions\n",
    "# the Kolmogorov-Smirnov (K-S) test or Chi-Square Goodness of Fit Test validates the uniformity of the distribution.\n",
    "\n",
    "\n",
    "df1 = np.random.uniform(low=0, high=10, size=1000)\n",
    "\n",
    "\n",
    "D_statistic, p_value = stats.kstest(df1, 'uniform', args=(0, 10))\n",
    "\n",
    "print(\"D-statistic:\", D_statistic)\n",
    "print(\"P-value:\", p_value)\n",
    "\n",
    "if p_value < 0.05:\n",
    "    print(\"Reject the null hypothesis: Data does not follow a uniform distribution.\")\n",
    "else:\n",
    "    print(\"Fail to reject the null hypothesis: Data follows a uniform distribution.\")\n"
   ]
  },
  {
   "cell_type": "markdown",
   "id": "7d7e60b6-c8e4-4bfc-99e8-229be64ed9f0",
   "metadata": {},
   "source": [
    "Mann-Whitney U Test (for comparing two independent groups)\n",
    "Purpose: A non-parametric test to compare whether two independent samples come from the same distribution.\n",
    "Question: are two groups from the same distribution\n",
    "Null Hypothesis:are two groups from the same pop? \n",
    "Alternative hypothesis: \n"
   ]
  },
  {
   "cell_type": "code",
   "execution_count": null,
   "id": "39a768b3-61b3-475e-a796-f6a98bb14a8b",
   "metadata": {},
   "outputs": [],
   "source": [
    "from scipy import stats\n",
    "\n",
    "# Example data: Two independent samples\n",
    "group_1 = np.random.uniform(0, 10, 500)\n",
    "group_2 = np.random.uniform(0, 10, 500)\n",
    "\n",
    "# Perform the Mann-Whitney U Test\n",
    "u_statistic, p_value = stats.mannwhitneyu(group_1, group_2)\n",
    "\n",
    "print(\"U-statistic:\", u_statistic)\n",
    "print(\"P-value:\", p_value)\n",
    "\n",
    "if p_value < 0.05:\n",
    "    print(\"Reject the null hypothesis: The two groups come from different distributions.\")\n",
    "else:\n",
    "    print(\"Fail to reject the null hypothesis: The two groups come from the same distribution.\")\n"
   ]
  },
  {
   "cell_type": "code",
   "execution_count": null,
   "id": "63e40df8-2652-4a65-b163-d1de8c5bb764",
   "metadata": {},
   "outputs": [],
   "source": [
    "from scipy import stats\n",
    "\n",
    "# Example data: Two groups with uniform distribution\n",
    "group_1 = np.random.uniform(0, 10, 500)  # Group 1\n",
    "group_2 = np.random.uniform(0, 10, 500)  # Group 2\n",
    "\n",
    "# Perform Levene's test for equality of variances\n",
    "stat, p_value = stats.levene(group_1, group_2)\n",
    "\n",
    "print(\"Levene's test statistic:\", stat)\n",
    "print(\"P-value:\", p_value)\n",
    "\n",
    "if p_value < 0.05:\n",
    "    print(\"Reject the null hypothesis: The variances of the groups are different.\")\n",
    "else:\n",
    "    print(\"Fail to reject the null hypothesis: The variances of the groups are equal.\")\n"
   ]
  },
  {
   "cell_type": "code",
   "execution_count": null,
   "id": "1c5c2ae6-8327-44c0-8f07-b345d5d76eef",
   "metadata": {},
   "outputs": [],
   "source": [
    "teens_data.to_csv('teens_shopping.csv')"
   ]
  },
  {
   "cell_type": "code",
   "execution_count": null,
   "id": "e358714d-868b-43bb-ad9c-388c15f325a9",
   "metadata": {},
   "outputs": [],
   "source": [
    "teens_data.gender.value_counts()"
   ]
  },
  {
   "cell_type": "code",
   "execution_count": null,
   "id": "69e4434b-1cdb-44f3-b53b-f9d11cd91806",
   "metadata": {},
   "outputs": [],
   "source": []
  }
 ],
 "metadata": {
  "kernelspec": {
   "display_name": "Python 3 (ipykernel)",
   "language": "python",
   "name": "python3"
  },
  "language_info": {
   "codemirror_mode": {
    "name": "ipython",
    "version": 3
   },
   "file_extension": ".py",
   "mimetype": "text/x-python",
   "name": "python",
   "nbconvert_exporter": "python",
   "pygments_lexer": "ipython3",
   "version": "3.12.4"
  }
 },
 "nbformat": 4,
 "nbformat_minor": 5
}
